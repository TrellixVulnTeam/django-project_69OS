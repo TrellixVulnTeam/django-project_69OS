{
 "cells": [
  {
   "cell_type": "code",
   "execution_count": 2,
   "metadata": {},
   "outputs": [],
   "source": [
    "import django\n",
    "import os\n",
    "os.environ[\"DJANGO_SETTINGS_MODULE\"]=\"facebook.settings\"\n",
    "django.setup() "
   ]
  },
  {
   "cell_type": "code",
   "execution_count": 2,
   "metadata": {},
   "outputs": [],
   "source": [
    "from fbposts.posts import get_user_posts"
   ]
  },
  {
   "cell_type": "code",
   "execution_count": 3,
   "metadata": {},
   "outputs": [
    {
     "name": "stdout",
     "output_type": "stream",
     "text": [
      "3\n",
      "1\n",
      "1\n",
      "1\n",
      "1\n",
      "1\n",
      "1\n"
     ]
    },
    {
     "data": {
      "text/plain": [
       "[{'post_id': 1,\n",
       "  'posted_by': {'user_id': 1,\n",
       "   'name': 'ib_admin',\n",
       "   'profile_pic_url': 'sampe.png'},\n",
       "  'posted_at': '2019-07-02 11:29:11',\n",
       "  'post_content': 'my first post',\n",
       "  'reactions': {'count': 3, 'type': ['LIKE']},\n",
       "  'comments': [{'comment_id': 1,\n",
       "    'commenter': {'user_id': 2,\n",
       "     'name': 'ib_cricket',\n",
       "     'profile_pic_url': 'cricket.png'},\n",
       "    'commented_at': '2019-07-03 04:44:02',\n",
       "    'comment_content': 'hey',\n",
       "    'reactions': {'count': 3, 'type': ['LIKE', 'LOVE', 'WOW']},\n",
       "    'replies_count': 0,\n",
       "    'replies': []},\n",
       "   {'comment_id': 2,\n",
       "    'commenter': {'user_id': 1,\n",
       "     'name': 'ib_admin',\n",
       "     'profile_pic_url': 'sampe.png'},\n",
       "    'commented_at': '2019-07-03 05:34:49',\n",
       "    'comment_content': 'ok',\n",
       "    'reactions': {'count': 0, 'type': []},\n",
       "    'replies_count': 0,\n",
       "    'replies': []},\n",
       "   {'comment_id': 3,\n",
       "    'commenter': {'user_id': 1,\n",
       "     'name': 'ib_admin',\n",
       "     'profile_pic_url': 'sampe.png'},\n",
       "    'commented_at': '2019-07-03 11:32:41',\n",
       "    'comment_content': 'jupyter',\n",
       "    'reactions': {'count': 0, 'type': []},\n",
       "    'replies_count': 2,\n",
       "    'replies': [{'comment_id': 4,\n",
       "      'commenter': {'user_id': 2,\n",
       "       'name': 'ib_cricket',\n",
       "       'profile_pic_url': 'cricket.png'},\n",
       "      'commented_at': '2019-07-03 11:56:20',\n",
       "      'comment_content': 'reply',\n",
       "      'reactions': {'count': 0, 'type': []}},\n",
       "     {'comment_id': 5,\n",
       "      'commenter': {'user_id': 2,\n",
       "       'name': 'ib_cricket',\n",
       "       'profile_pic_url': 'cricket.png'},\n",
       "      'commented_at': '2019-07-03 11:56:40',\n",
       "      'comment_content': 'nested reply',\n",
       "      'reactions': {'count': 0, 'type': []}}]}],\n",
       "  'comments_count': 3},\n",
       " {'post_id': 3,\n",
       "  'posted_by': {'user_id': 1,\n",
       "   'name': 'ib_admin',\n",
       "   'profile_pic_url': 'sampe.png'},\n",
       "  'posted_at': '2019-07-03 07:07:04',\n",
       "  'post_content': 'through jupyter',\n",
       "  'reactions': {'count': 3, 'type': ['ANGRY', 'HAHA', 'SAD']},\n",
       "  'comments': [],\n",
       "  'comments_count': 0}]"
      ]
     },
     "execution_count": 3,
     "metadata": {},
     "output_type": "execute_result"
    }
   ],
   "source": [
    "get_user_posts(1)"
   ]
  },
  {
   "cell_type": "code",
   "execution_count": 4,
   "metadata": {},
   "outputs": [],
   "source": [
    "from fbposts.posts import create_post"
   ]
  },
  {
   "cell_type": "code",
   "execution_count": 5,
   "metadata": {},
   "outputs": [],
   "source": [
    "from fbposts.posts import get_post"
   ]
  },
  {
   "cell_type": "code",
   "execution_count": 6,
   "metadata": {},
   "outputs": [
    {
     "name": "stdout",
     "output_type": "stream",
     "text": [
      "3\n",
      "1\n",
      "1\n",
      "1\n"
     ]
    },
    {
     "data": {
      "text/plain": [
       "{'post_id': 1,\n",
       " 'posted_by': {'user_id': 1,\n",
       "  'name': 'ib_admin',\n",
       "  'profile_pic_url': 'sampe.png'},\n",
       " 'posted_at': '2019-07-02 11:29:11',\n",
       " 'post_content': 'my first post',\n",
       " 'reactions': {'count': 3, 'type': ['LIKE']},\n",
       " 'comments': [{'comment_id': 1,\n",
       "   'commenter': {'user_id': 2,\n",
       "    'name': 'ib_cricket',\n",
       "    'profile_pic_url': 'cricket.png'},\n",
       "   'commented_at': '2019-07-03 04:44:02',\n",
       "   'comment_content': 'hey',\n",
       "   'reactions': {'count': 3, 'type': ['LIKE', 'LOVE', 'WOW']},\n",
       "   'replies_count': 0,\n",
       "   'replies': []},\n",
       "  {'comment_id': 2,\n",
       "   'commenter': {'user_id': 1,\n",
       "    'name': 'ib_admin',\n",
       "    'profile_pic_url': 'sampe.png'},\n",
       "   'commented_at': '2019-07-03 05:34:49',\n",
       "   'comment_content': 'ok',\n",
       "   'reactions': {'count': 0, 'type': []},\n",
       "   'replies_count': 0,\n",
       "   'replies': []},\n",
       "  {'comment_id': 3,\n",
       "   'commenter': {'user_id': 1,\n",
       "    'name': 'ib_admin',\n",
       "    'profile_pic_url': 'sampe.png'},\n",
       "   'commented_at': '2019-07-03 11:32:41',\n",
       "   'comment_content': 'jupyter',\n",
       "   'reactions': {'count': 0, 'type': []},\n",
       "   'replies_count': 2,\n",
       "   'replies': [{'comment_id': 4,\n",
       "     'commenter': {'user_id': 2,\n",
       "      'name': 'ib_cricket',\n",
       "      'profile_pic_url': 'cricket.png'},\n",
       "     'commented_at': '2019-07-03 11:56:20',\n",
       "     'comment_content': 'reply',\n",
       "     'reactions': {'count': 0, 'type': []}},\n",
       "    {'comment_id': 5,\n",
       "     'commenter': {'user_id': 2,\n",
       "      'name': 'ib_cricket',\n",
       "      'profile_pic_url': 'cricket.png'},\n",
       "     'commented_at': '2019-07-03 11:56:40',\n",
       "     'comment_content': 'nested reply',\n",
       "     'reactions': {'count': 0, 'type': []}}]}],\n",
       " 'comments_count': 3}"
      ]
     },
     "execution_count": 6,
     "metadata": {},
     "output_type": "execute_result"
    }
   ],
   "source": [
    "get_post(1)"
   ]
  },
  {
   "cell_type": "code",
   "execution_count": 7,
   "metadata": {},
   "outputs": [],
   "source": [
    "from fbposts.posts import get_posts_with_more_positive_reactions"
   ]
  },
  {
   "cell_type": "code",
   "execution_count": 8,
   "metadata": {},
   "outputs": [
    {
     "data": {
      "text/plain": [
       "[1, 2]"
      ]
     },
     "execution_count": 8,
     "metadata": {},
     "output_type": "execute_result"
    }
   ],
   "source": [
    "\n",
    "get_posts_with_more_positive_reactions()"
   ]
  },
  {
   "cell_type": "code",
   "execution_count": 9,
   "metadata": {},
   "outputs": [
    {
     "data": {
      "text/plain": [
       "<QuerySet [{'post': None, 'negative': 0, 'positive': 3}, {'post': 1, 'negative': 0, 'positive': 3}, {'post': 2, 'negative': 0, 'positive': 2}]>"
      ]
     },
     "execution_count": 9,
     "metadata": {},
     "output_type": "execute_result"
    }
   ],
   "source": [
    "from fbposts.models import Reaction\n",
    "from django.db.models import Count,Q,F\n",
    "Reaction.objects.values('post').annotate(\n",
    "        negative=Count('reaction_type', filter=Q(reaction_type='SAD') | Q(reaction_type='ANGRY')),\n",
    "        positive=Count('reaction_type', filter=~(Q(reaction_type='SAD') | Q(reaction_type='ANGRY')))).filter(positive__gt=F('negative'))\n"
   ]
  },
  {
   "cell_type": "code",
   "execution_count": 10,
   "metadata": {},
   "outputs": [],
   "source": [
    "from fbposts.posts import get_posts_reacted_by_user"
   ]
  },
  {
   "cell_type": "code",
   "execution_count": 11,
   "metadata": {},
   "outputs": [
    {
     "name": "stdout",
     "output_type": "stream",
     "text": [
      "1\n",
      "1\n",
      "1\n",
      "1\n",
      "1\n",
      "3\n",
      "1\n",
      "1\n",
      "1\n"
     ]
    },
    {
     "data": {
      "text/plain": [
       "[{'post_id': 2,\n",
       "  'posted_by': {'user_id': 2,\n",
       "   'name': 'ib_cricket',\n",
       "   'profile_pic_url': 'cricket.png'},\n",
       "  'posted_at': '2019-07-03 04:41:30',\n",
       "  'post_content': 'user2 post',\n",
       "  'reactions': {'count': 2, 'type': ['HAHA', 'WOW']},\n",
       "  'comments': [],\n",
       "  'comments_count': 0},\n",
       " {'post_id': 3,\n",
       "  'posted_by': {'user_id': 1,\n",
       "   'name': 'ib_admin',\n",
       "   'profile_pic_url': 'sampe.png'},\n",
       "  'posted_at': '2019-07-03 07:07:04',\n",
       "  'post_content': 'through jupyter',\n",
       "  'reactions': {'count': 3, 'type': ['ANGRY', 'HAHA', 'SAD']},\n",
       "  'comments': [],\n",
       "  'comments_count': 0},\n",
       " {'post_id': 1,\n",
       "  'posted_by': {'user_id': 1,\n",
       "   'name': 'ib_admin',\n",
       "   'profile_pic_url': 'sampe.png'},\n",
       "  'posted_at': '2019-07-02 11:29:11',\n",
       "  'post_content': 'my first post',\n",
       "  'reactions': {'count': 3, 'type': ['LIKE']},\n",
       "  'comments': [{'comment_id': 1,\n",
       "    'commenter': {'user_id': 2,\n",
       "     'name': 'ib_cricket',\n",
       "     'profile_pic_url': 'cricket.png'},\n",
       "    'commented_at': '2019-07-03 04:44:02',\n",
       "    'comment_content': 'hey',\n",
       "    'reactions': {'count': 3, 'type': ['LIKE', 'LOVE', 'WOW']},\n",
       "    'replies_count': 0,\n",
       "    'replies': []},\n",
       "   {'comment_id': 2,\n",
       "    'commenter': {'user_id': 1,\n",
       "     'name': 'ib_admin',\n",
       "     'profile_pic_url': 'sampe.png'},\n",
       "    'commented_at': '2019-07-03 05:34:49',\n",
       "    'comment_content': 'ok',\n",
       "    'reactions': {'count': 0, 'type': []},\n",
       "    'replies_count': 0,\n",
       "    'replies': []},\n",
       "   {'comment_id': 3,\n",
       "    'commenter': {'user_id': 1,\n",
       "     'name': 'ib_admin',\n",
       "     'profile_pic_url': 'sampe.png'},\n",
       "    'commented_at': '2019-07-03 11:32:41',\n",
       "    'comment_content': 'jupyter',\n",
       "    'reactions': {'count': 0, 'type': []},\n",
       "    'replies_count': 2,\n",
       "    'replies': [{'comment_id': 4,\n",
       "      'commenter': {'user_id': 2,\n",
       "       'name': 'ib_cricket',\n",
       "       'profile_pic_url': 'cricket.png'},\n",
       "      'commented_at': '2019-07-03 11:56:20',\n",
       "      'comment_content': 'reply',\n",
       "      'reactions': {'count': 0, 'type': []}},\n",
       "     {'comment_id': 5,\n",
       "      'commenter': {'user_id': 2,\n",
       "       'name': 'ib_cricket',\n",
       "       'profile_pic_url': 'cricket.png'},\n",
       "      'commented_at': '2019-07-03 11:56:40',\n",
       "      'comment_content': 'nested reply',\n",
       "      'reactions': {'count': 0, 'type': []}}]}],\n",
       "  'comments_count': 3}]"
      ]
     },
     "execution_count": 11,
     "metadata": {},
     "output_type": "execute_result"
    }
   ],
   "source": [
    "get_posts_reacted_by_user(1)"
   ]
  },
  {
   "cell_type": "code",
   "execution_count": 12,
   "metadata": {},
   "outputs": [],
   "source": [
    "from fbposts.posts import get_reactions_to_post"
   ]
  },
  {
   "cell_type": "code",
   "execution_count": 13,
   "metadata": {},
   "outputs": [
    {
     "data": {
      "text/plain": [
       "[{'user_id': 2,\n",
       "  'name': 'ib_cricket',\n",
       "  'profile_pic_url': 'cricket.png',\n",
       "  'reaction': 'LIKE'},\n",
       " {'user_id': 3,\n",
       "  'name': 'cybereye',\n",
       "  'profile_pic_url': 'cyber.jpg',\n",
       "  'reaction': 'LIKE'},\n",
       " {'user_id': 1,\n",
       "  'name': 'ib_admin',\n",
       "  'profile_pic_url': 'sampe.png',\n",
       "  'reaction': 'LIKE'}]"
      ]
     },
     "execution_count": 13,
     "metadata": {},
     "output_type": "execute_result"
    }
   ],
   "source": [
    "get_reactions_to_post(1)"
   ]
  },
  {
   "cell_type": "code",
   "execution_count": 14,
   "metadata": {},
   "outputs": [],
   "source": [
    "from fbposts.reactions import get_reaction_metrics"
   ]
  },
  {
   "cell_type": "code",
   "execution_count": 15,
   "metadata": {},
   "outputs": [
    {
     "data": {
      "text/plain": [
       "{'LIKE': 3}"
      ]
     },
     "execution_count": 15,
     "metadata": {},
     "output_type": "execute_result"
    }
   ],
   "source": [
    "get_reaction_metrics(1)"
   ]
  },
  {
   "cell_type": "code",
   "execution_count": 16,
   "metadata": {},
   "outputs": [],
   "source": [
    "from fbposts.reactions import get_total_reaction_count"
   ]
  },
  {
   "cell_type": "code",
   "execution_count": 17,
   "metadata": {},
   "outputs": [
    {
     "data": {
      "text/plain": [
       "{1: 3, 2: 2, 3: 3}"
      ]
     },
     "execution_count": 17,
     "metadata": {},
     "output_type": "execute_result"
    }
   ],
   "source": [
    "get_total_reaction_count()"
   ]
  },
  {
   "cell_type": "code",
   "execution_count": 18,
   "metadata": {},
   "outputs": [
    {
     "data": {
      "text/plain": [
       "<QuerySet [{'post': None, 'negative': 0, 'positive': 3}, {'post': 1, 'negative': 0, 'positive': 3}, {'post': 2, 'negative': 0, 'positive': 2}]>"
      ]
     },
     "execution_count": 18,
     "metadata": {},
     "output_type": "execute_result"
    }
   ],
   "source": [
    "Reaction.objects.values('post').annotate(\n",
    "        negative=Count('reaction_type', filter=Q(reaction_type='SAD') | Q(reaction_type='ANGRY')),\n",
    "        positive=Count('reaction_type', filter=~(Q(reaction_type='SAD') | Q(reaction_type='ANGRY')))).filter(positive__gt=F('negative'))"
   ]
  },
  {
   "cell_type": "code",
   "execution_count": 19,
   "metadata": {},
   "outputs": [
    {
     "ename": "AttributeError",
     "evalue": "'QuerySet' object has no attribute 'user'",
     "output_type": "error",
     "traceback": [
      "\u001b[0;31m---------------------------------------------------------------------------\u001b[0m",
      "\u001b[0;31mAttributeError\u001b[0m                            Traceback (most recent call last)",
      "\u001b[0;32m<ipython-input-19-5dcd391de338>\u001b[0m in \u001b[0;36m<module>\u001b[0;34m\u001b[0m\n\u001b[1;32m      1\u001b[0m \u001b[0;32mfrom\u001b[0m \u001b[0mfbposts\u001b[0m\u001b[0;34m.\u001b[0m\u001b[0mmodels\u001b[0m \u001b[0;32mimport\u001b[0m \u001b[0mPost\u001b[0m\u001b[0;34m\u001b[0m\u001b[0;34m\u001b[0m\u001b[0m\n\u001b[1;32m      2\u001b[0m \u001b[0mpost\u001b[0m\u001b[0;34m=\u001b[0m\u001b[0mPost\u001b[0m\u001b[0;34m.\u001b[0m\u001b[0mobjects\u001b[0m\u001b[0;34m.\u001b[0m\u001b[0mget\u001b[0m\u001b[0;34m(\u001b[0m\u001b[0mpk\u001b[0m\u001b[0;34m=\u001b[0m\u001b[0;36m1\u001b[0m\u001b[0;34m)\u001b[0m\u001b[0;34m\u001b[0m\u001b[0;34m\u001b[0m\u001b[0m\n\u001b[0;32m----> 3\u001b[0;31m \u001b[0mpost\u001b[0m\u001b[0;34m.\u001b[0m\u001b[0mreactions\u001b[0m\u001b[0;34m.\u001b[0m\u001b[0mall\u001b[0m\u001b[0;34m(\u001b[0m\u001b[0;34m)\u001b[0m\u001b[0;34m.\u001b[0m\u001b[0muser\u001b[0m\u001b[0;34m.\u001b[0m\u001b[0mreactions\u001b[0m\u001b[0;34m.\u001b[0m\u001b[0mall\u001b[0m\u001b[0;34m(\u001b[0m\u001b[0;34m)\u001b[0m\u001b[0;34m\u001b[0m\u001b[0;34m\u001b[0m\u001b[0m\n\u001b[0m",
      "\u001b[0;31mAttributeError\u001b[0m: 'QuerySet' object has no attribute 'user'"
     ]
    }
   ],
   "source": [
    "from fbposts.models import Post\n",
    "post=Post.objects.get(pk=1)\n",
    "post.reactions.all().user.reactions.all()\n"
   ]
  },
  {
   "cell_type": "code",
   "execution_count": null,
   "metadata": {},
   "outputs": [],
   "source": [
    "from fbposts.reactions import react_to_post\n"
   ]
  },
  {
   "cell_type": "raw",
   "metadata": {},
   "source": [
    "react_to_post(1,1,'SAD')"
   ]
  },
  {
   "cell_type": "code",
   "execution_count": null,
   "metadata": {},
   "outputs": [],
   "source": [
    "react_to_post(1,1,'LIKE')"
   ]
  },
  {
   "cell_type": "code",
   "execution_count": null,
   "metadata": {},
   "outputs": [],
   "source": [
    "from fbposts.comments import add_comment"
   ]
  },
  {
   "cell_type": "code",
   "execution_count": null,
   "metadata": {},
   "outputs": [],
   "source": [
    "add_comment(1,1,\"jupyter\")"
   ]
  },
  {
   "cell_type": "code",
   "execution_count": null,
   "metadata": {},
   "outputs": [],
   "source": [
    "from fbposts.comments import reply_to_comment"
   ]
  },
  {
   "cell_type": "code",
   "execution_count": null,
   "metadata": {},
   "outputs": [],
   "source": [
    "reply_to_comment(3,2,\"reply\")"
   ]
  },
  {
   "cell_type": "code",
   "execution_count": null,
   "metadata": {},
   "outputs": [],
   "source": [
    "reply_to_comment(4,2,\"nested reply\")"
   ]
  },
  {
   "cell_type": "code",
   "execution_count": null,
   "metadata": {},
   "outputs": [],
   "source": [
    "from fbposts.reactions import get_reaction_metrics"
   ]
  },
  {
   "cell_type": "code",
   "execution_count": null,
   "metadata": {},
   "outputs": [],
   "source": [
    "get_reaction_metrics(1)"
   ]
  },
  {
   "cell_type": "code",
   "execution_count": 3,
   "metadata": {},
   "outputs": [],
   "source": [
    "from fbposts.reactions import get_all_posts_reaction_details"
   ]
  },
  {
   "cell_type": "code",
   "execution_count": 5,
   "metadata": {},
   "outputs": [
    {
     "ename": "KeyError",
     "evalue": "'post__id'",
     "output_type": "error",
     "traceback": [
      "\u001b[0;31m---------------------------------------------------------------------------\u001b[0m",
      "\u001b[0;31mKeyError\u001b[0m                                  Traceback (most recent call last)",
      "\u001b[0;32m<ipython-input-5-174d2a1151f1>\u001b[0m in \u001b[0;36m<module>\u001b[0;34m\u001b[0m\n\u001b[0;32m----> 1\u001b[0;31m \u001b[0mget_all_posts_reaction_details\u001b[0m\u001b[0;34m(\u001b[0m\u001b[0;34m)\u001b[0m\u001b[0;34m\u001b[0m\u001b[0;34m\u001b[0m\u001b[0m\n\u001b[0m",
      "\u001b[0;32m~/git/django-project/fbposts/reactions.py\u001b[0m in \u001b[0;36mget_all_posts_reaction_details\u001b[0;34m()\u001b[0m\n\u001b[1;32m     87\u001b[0m \u001b[0;34m\u001b[0m\u001b[0m\n\u001b[1;32m     88\u001b[0m     \u001b[0;32mfor\u001b[0m \u001b[0mreaction\u001b[0m \u001b[0;32min\u001b[0m \u001b[0mreactions\u001b[0m\u001b[0;34m:\u001b[0m\u001b[0;34m\u001b[0m\u001b[0;34m\u001b[0m\u001b[0m\n\u001b[0;32m---> 89\u001b[0;31m         \u001b[0mresult\u001b[0m\u001b[0;34m[\u001b[0m\u001b[0mreaction\u001b[0m\u001b[0;34m[\u001b[0m\u001b[0;34m'post__id'\u001b[0m\u001b[0;34m]\u001b[0m\u001b[0;34m]\u001b[0m\u001b[0;34m=\u001b[0m\u001b[0mdict\u001b[0m\u001b[0;34m(\u001b[0m\u001b[0;34m)\u001b[0m\u001b[0;34m\u001b[0m\u001b[0;34m\u001b[0m\u001b[0m\n\u001b[0m\u001b[1;32m     90\u001b[0m     \u001b[0;32mfor\u001b[0m \u001b[0mreaction\u001b[0m \u001b[0;32min\u001b[0m \u001b[0mreactions\u001b[0m\u001b[0;34m:\u001b[0m\u001b[0;34m\u001b[0m\u001b[0;34m\u001b[0m\u001b[0m\n\u001b[1;32m     91\u001b[0m         \u001b[0mresult\u001b[0m\u001b[0;34m[\u001b[0m\u001b[0mreaction\u001b[0m\u001b[0;34m[\u001b[0m\u001b[0;34m'post__id'\u001b[0m\u001b[0;34m]\u001b[0m\u001b[0;34m]\u001b[0m\u001b[0;34m.\u001b[0m\u001b[0madd\u001b[0m\u001b[0;34m(\u001b[0m\u001b[0mreaction\u001b[0m\u001b[0;34m[\u001b[0m\u001b[0;34m'reaction_type'\u001b[0m\u001b[0;34m]\u001b[0m\u001b[0;34m,\u001b[0m\u001b[0mreaction\u001b[0m\u001b[0;34m[\u001b[0m\u001b[0;34m'reaction__type__count'\u001b[0m\u001b[0;34m]\u001b[0m\u001b[0;34m)\u001b[0m\u001b[0;34m\u001b[0m\u001b[0;34m\u001b[0m\u001b[0m\n",
      "\u001b[0;31mKeyError\u001b[0m: 'post__id'"
     ]
    }
   ],
   "source": [
    "get_all_posts_reaction_details()"
   ]
  },
  {
   "cell_type": "code",
   "execution_count": null,
   "metadata": {},
   "outputs": [],
   "source": []
  }
 ],
 "metadata": {
  "kernelspec": {
   "display_name": "Python 3",
   "language": "python",
   "name": "python3"
  },
  "language_info": {
   "codemirror_mode": {
    "name": "ipython",
    "version": 3
   },
   "file_extension": ".py",
   "mimetype": "text/x-python",
   "name": "python",
   "nbconvert_exporter": "python",
   "pygments_lexer": "ipython3",
   "version": "3.7.3"
  }
 },
 "nbformat": 4,
 "nbformat_minor": 2
}
