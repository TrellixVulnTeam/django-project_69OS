{
 "cells": [
  {
   "cell_type": "code",
   "execution_count": 3,
   "metadata": {},
   "outputs": [],
   "source": [
    "import django\n",
    "import os\n",
    "os.environ[\"DJANGO_SETTINGS_MODULE\"]=\"facebook.settings\"\n",
    "django.setup() "
   ]
  },
  {
   "cell_type": "code",
   "execution_count": 4,
   "metadata": {},
   "outputs": [],
   "source": [
    "from fbposts.comments import get_post_comments"
   ]
  },
  {
   "cell_type": "code",
   "execution_count": null,
   "metadata": {},
   "outputs": [],
   "source": [
    "sudo pip install django"
   ]
  },
  {
   "cell_type": "code",
   "execution_count": 5,
   "metadata": {},
   "outputs": [
    {
     "ename": "AttributeError",
     "evalue": "'int' object has no attribute 'comments'",
     "output_type": "error",
     "traceback": [
      "\u001b[0;31m---------------------------------------------------------------------------\u001b[0m",
      "\u001b[0;31mAttributeError\u001b[0m                            Traceback (most recent call last)",
      "\u001b[0;32m<ipython-input-5-9ed89b4d03a9>\u001b[0m in \u001b[0;36m<module>\u001b[0;34m\u001b[0m\n\u001b[0;32m----> 1\u001b[0;31m \u001b[0mget_post_comments\u001b[0m\u001b[0;34m(\u001b[0m\u001b[0;36m1\u001b[0m\u001b[0;34m)\u001b[0m\u001b[0;34m\u001b[0m\u001b[0;34m\u001b[0m\u001b[0m\n\u001b[0m",
      "\u001b[0;32m~/git/django-project/fbposts/comments.py\u001b[0m in \u001b[0;36mget_post_comments\u001b[0;34m(post)\u001b[0m\n\u001b[1;32m     63\u001b[0m \u001b[0;32mdef\u001b[0m \u001b[0mget_post_comments\u001b[0m\u001b[0;34m(\u001b[0m\u001b[0mpost\u001b[0m\u001b[0;34m)\u001b[0m\u001b[0;34m:\u001b[0m\u001b[0;34m\u001b[0m\u001b[0;34m\u001b[0m\u001b[0m\n\u001b[1;32m     64\u001b[0m \u001b[0;34m\u001b[0m\u001b[0m\n\u001b[0;32m---> 65\u001b[0;31m     \u001b[0mcomments\u001b[0m \u001b[0;34m=\u001b[0m \u001b[0mpost\u001b[0m\u001b[0;34m.\u001b[0m\u001b[0mcomments\u001b[0m\u001b[0;34m.\u001b[0m\u001b[0mall\u001b[0m\u001b[0;34m(\u001b[0m\u001b[0;34m)\u001b[0m\u001b[0;34m.\u001b[0m\u001b[0mselect_related\u001b[0m\u001b[0;34m(\u001b[0m\u001b[0;34m'commenter'\u001b[0m\u001b[0;34m)\u001b[0m \u001b[0;34m.\u001b[0m\u001b[0mprefetch_related\u001b[0m\u001b[0;34m(\u001b[0m\u001b[0;34m'replies__reactions'\u001b[0m\u001b[0;34m,\u001b[0m \u001b[0;34m'reactions'\u001b[0m\u001b[0;34m,\u001b[0m \u001b[0;34m'replies__commenter'\u001b[0m\u001b[0;34m,\u001b[0m\u001b[0;34m'replies'\u001b[0m\u001b[0;34m)\u001b[0m\u001b[0;34m\u001b[0m\u001b[0;34m\u001b[0m\u001b[0m\n\u001b[0m\u001b[1;32m     66\u001b[0m \u001b[0;34m\u001b[0m\u001b[0m\n\u001b[1;32m     67\u001b[0m     \u001b[0mcomment_reactions\u001b[0m\u001b[0;34m=\u001b[0m\u001b[0mget_all_comments_reaction_details\u001b[0m\u001b[0;34m(\u001b[0m\u001b[0;34m)\u001b[0m\u001b[0;34m\u001b[0m\u001b[0;34m\u001b[0m\u001b[0m\n",
      "\u001b[0;31mAttributeError\u001b[0m: 'int' object has no attribute 'comments'"
     ]
    }
   ],
   "source": [
    "get_post_comments(1)"
   ]
  },
  {
   "cell_type": "code",
   "execution_count": null,
   "metadata": {},
   "outputs": [],
   "source": [
    "from fbposts.models import Comment,Reaction\n",
    "from django.db.models import Prefetch\n",
    "comments=Comment.objects.filter(post=1).select_related('commenter') \\\n",
    "        .prefetch_related(Prefetch('replies', queryset=Comment.objects.all(), to_attr='comment_replies'))\\\n",
    "        .prefetch_related(Prefetch('reactions',queryset=Reaction.objects.all(),to_attr='comment_reactions'))\n",
    "print(comments[0].comment_reactions)"
   ]
  },
  {
   "cell_type": "code",
   "execution_count": null,
   "metadata": {},
   "outputs": [],
   "source": [
    "from fbposts.models import Comment\n",
    "Comment.objects.filter(comment_id=7)"
   ]
  },
  {
   "cell_type": "code",
   "execution_count": null,
   "metadata": {},
   "outputs": [],
   "source": []
  },
  {
   "cell_type": "code",
   "execution_count": null,
   "metadata": {},
   "outputs": [],
   "source": [
    "from fbposts.models import *\n",
    "\n",
    "post=Post.objects.all().select_related('posted_by').filter(pk=1).prefetch_related(Prefetch('reactions', queryset=Reaction.objects.all())) \\\n",
    "        .prefetch_related(Prefetch('comments', queryset=Comment.objects.all()))\n",
    "post.posted_by"
   ]
  },
  {
   "cell_type": "code",
   "execution_count": null,
   "metadata": {},
   "outputs": [],
   "source": [
    "from fbposts.posts import get_post\n"
   ]
  },
  {
   "cell_type": "code",
   "execution_count": null,
   "metadata": {},
   "outputs": [],
   "source": [
    "get_post(1)"
   ]
  },
  {
   "cell_type": "code",
   "execution_count": null,
   "metadata": {},
   "outputs": [],
   "source": [
    "from fbposts.posts import get_posts_with_more_positive_reactions"
   ]
  },
  {
   "cell_type": "code",
   "execution_count": null,
   "metadata": {},
   "outputs": [],
   "source": [
    "get_posts_with_more_positive_reactions()"
   ]
  },
  {
   "cell_type": "code",
   "execution_count": null,
   "metadata": {},
   "outputs": [],
   "source": [
    "\n",
    "\n",
    "\n",
    "\n",
    "from fbposts.models import *\n",
    "from django.db.models import Prefetch\n",
    "\n",
    "comments = Comment.objects.filter(post_id=1).select_related('commenter') \\\n",
    "        .prefetch_related(Prefetch('replies', queryset=Comment.objects.all(), to_attr='comment_replies'))\\\n",
    "        .prefetch_related(Prefetch('reactions',queryset=Reaction.objects.all(),to_attr='comment_reactions'))\n",
    "\n",
    "\n",
    "\n",
    "\n",
    "\n",
    "\n",
    "\n",
    "\n",
    "for item in comments:\n",
    "    print(item.comment_reactions)\n",
    "from fbposts.comments import get_comments\n",
    "\n",
    "get_comments(comments)\n",
    "\n",
    "\n",
    "\n",
    "\n",
    "\n",
    "\n",
    "\n",
    "\n",
    "\n",
    "\n",
    "\n"
   ]
  },
  {
   "cell_type": "code",
   "execution_count": null,
   "metadata": {},
   "outputs": [],
   "source": [
    "from fbposts.reactions import get_all_comments_reaction_details"
   ]
  },
  {
   "cell_type": "code",
   "execution_count": null,
   "metadata": {},
   "outputs": [],
   "source": [
    "get_all_comments_reaction_details()"
   ]
  },
  {
   "cell_type": "code",
   "execution_count": null,
   "metadata": {},
   "outputs": [],
   "source": [
    "from fbposts.models import Reaction\n",
    "from django.db.models import Q,Count\n",
    "Reaction.objects.filter(comment = None).values('post__id','reaction_type').annotate(count=Count('reaction_type'))"
   ]
  },
  {
   "cell_type": "code",
   "execution_count": null,
   "metadata": {},
   "outputs": [],
   "source": [
    "\n",
    "\n",
    "from fbposts.models import Reaction\n",
    "from django.db.models import Q,Count\n",
    "Reaction.objects.filter(comment = None).values('post__id','reaction_type').annotate(count=Count('reaction_type'))"
   ]
  },
  {
   "cell_type": "code",
   "execution_count": null,
   "metadata": {},
   "outputs": [],
   "source": []
  }
 ],
 "metadata": {
  "kernelspec": {
   "display_name": "Python 3",
   "language": "python",
   "name": "python3"
  },
  "language_info": {
   "codemirror_mode": {
    "name": "ipython",
    "version": 3
   },
   "file_extension": ".py",
   "mimetype": "text/x-python",
   "name": "python",
   "nbconvert_exporter": "python",
   "pygments_lexer": "ipython3",
   "version": "3.7.3"
  }
 },
 "nbformat": 4,
 "nbformat_minor": 2
}
