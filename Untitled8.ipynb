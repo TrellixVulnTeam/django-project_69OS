{
 "cells": [
  {
   "cell_type": "code",
   "execution_count": 1,
   "metadata": {},
   "outputs": [],
   "source": [
    "import django\n",
    "import os\n",
    "os.environ[\"DJANGO_SETTINGS_MODULE\"]=\"facebook.settings\"\n",
    "django.setup() "
   ]
  },
  {
   "cell_type": "code",
   "execution_count": 2,
   "metadata": {},
   "outputs": [],
   "source": [
    "from fbposts.posts import get_post_comments"
   ]
  },
  {
   "cell_type": "code",
   "execution_count": null,
   "metadata": {},
   "outputs": [],
   "source": [
    "get_post_comments(1)"
   ]
  },
  {
   "cell_type": "code",
   "execution_count": 8,
   "metadata": {},
   "outputs": [
    {
     "name": "stdout",
     "output_type": "stream",
     "text": [
      "[<Reaction: Reaction object (6)>, <Reaction: Reaction object (7)>, <Reaction: Reaction object (8)>]\n"
     ]
    }
   ],
   "source": [
    "from fbposts.models import Comment,Reaction\n",
    "from django.db.models import Prefetch\n",
    "comments=Comment.objects.filter(post=1).select_related('commenter') \\\n",
    "        .prefetch_related(Prefetch('replies', queryset=Comment.objects.all(), to_attr='comment_replies'))\\\n",
    "        .prefetch_related(Prefetch('reactions',queryset=Reaction.objects.all(),to_attr='comment_reactions'))\n",
    "print(comments[0].comment_reactions)"
   ]
  },
  {
   "cell_type": "code",
   "execution_count": null,
   "metadata": {},
   "outputs": [],
   "source": [
    "from fbposts.models import Comment\n",
    "Comment.objects.filter(comment_id=7)"
   ]
  },
  {
   "cell_type": "code",
   "execution_count": null,
   "metadata": {},
   "outputs": [],
   "source": []
  },
  {
   "cell_type": "code",
   "execution_count": 7,
   "metadata": {},
   "outputs": [
    {
     "ename": "AttributeError",
     "evalue": "'QuerySet' object has no attribute 'posted_by'",
     "output_type": "error",
     "traceback": [
      "\u001b[0;31m---------------------------------------------------------------------------\u001b[0m",
      "\u001b[0;31mAttributeError\u001b[0m                            Traceback (most recent call last)",
      "\u001b[0;32m<ipython-input-7-571e4bb8890e>\u001b[0m in \u001b[0;36m<module>\u001b[0;34m\u001b[0m\n\u001b[1;32m      3\u001b[0m \u001b[0mpost\u001b[0m\u001b[0;34m=\u001b[0m\u001b[0mPost\u001b[0m\u001b[0;34m.\u001b[0m\u001b[0mobjects\u001b[0m\u001b[0;34m.\u001b[0m\u001b[0mall\u001b[0m\u001b[0;34m(\u001b[0m\u001b[0;34m)\u001b[0m\u001b[0;34m.\u001b[0m\u001b[0mselect_related\u001b[0m\u001b[0;34m(\u001b[0m\u001b[0;34m'posted_by'\u001b[0m\u001b[0;34m)\u001b[0m\u001b[0;34m.\u001b[0m\u001b[0mfilter\u001b[0m\u001b[0;34m(\u001b[0m\u001b[0mpk\u001b[0m\u001b[0;34m=\u001b[0m\u001b[0;36m1\u001b[0m\u001b[0;34m)\u001b[0m\u001b[0;34m.\u001b[0m\u001b[0mprefetch_related\u001b[0m\u001b[0;34m(\u001b[0m\u001b[0mPrefetch\u001b[0m\u001b[0;34m(\u001b[0m\u001b[0;34m'reactions'\u001b[0m\u001b[0;34m,\u001b[0m \u001b[0mqueryset\u001b[0m\u001b[0;34m=\u001b[0m\u001b[0mReaction\u001b[0m\u001b[0;34m.\u001b[0m\u001b[0mobjects\u001b[0m\u001b[0;34m.\u001b[0m\u001b[0mall\u001b[0m\u001b[0;34m(\u001b[0m\u001b[0;34m)\u001b[0m\u001b[0;34m)\u001b[0m\u001b[0;34m)\u001b[0m\u001b[0;31m \u001b[0m\u001b[0;31m\\\u001b[0m\u001b[0;34m\u001b[0m\u001b[0;34m\u001b[0m\u001b[0m\n\u001b[1;32m      4\u001b[0m         \u001b[0;34m.\u001b[0m\u001b[0mprefetch_related\u001b[0m\u001b[0;34m(\u001b[0m\u001b[0mPrefetch\u001b[0m\u001b[0;34m(\u001b[0m\u001b[0;34m'comments'\u001b[0m\u001b[0;34m,\u001b[0m \u001b[0mqueryset\u001b[0m\u001b[0;34m=\u001b[0m\u001b[0mComment\u001b[0m\u001b[0;34m.\u001b[0m\u001b[0mobjects\u001b[0m\u001b[0;34m.\u001b[0m\u001b[0mall\u001b[0m\u001b[0;34m(\u001b[0m\u001b[0;34m)\u001b[0m\u001b[0;34m)\u001b[0m\u001b[0;34m)\u001b[0m\u001b[0;34m\u001b[0m\u001b[0;34m\u001b[0m\u001b[0m\n\u001b[0;32m----> 5\u001b[0;31m \u001b[0mpost\u001b[0m\u001b[0;34m.\u001b[0m\u001b[0mposted_by\u001b[0m\u001b[0;34m\u001b[0m\u001b[0;34m\u001b[0m\u001b[0m\n\u001b[0m",
      "\u001b[0;31mAttributeError\u001b[0m: 'QuerySet' object has no attribute 'posted_by'"
     ]
    }
   ],
   "source": [
    "from fbposts.models import *\n",
    "\n",
    "post=Post.objects.all().select_related('posted_by').filter(pk=1).prefetch_related(Prefetch('reactions', queryset=Reaction.objects.all())) \\\n",
    "        .prefetch_related(Prefetch('comments', queryset=Comment.objects.all()))\n",
    "post.posted_by"
   ]
  },
  {
   "cell_type": "code",
   "execution_count": null,
   "metadata": {},
   "outputs": [],
   "source": []
  },
  {
   "cell_type": "code",
   "execution_count": null,
   "metadata": {},
   "outputs": [],
   "source": []
  },
  {
   "cell_type": "code",
   "execution_count": null,
   "metadata": {},
   "outputs": [],
   "source": []
  },
  {
   "cell_type": "code",
   "execution_count": null,
   "metadata": {},
   "outputs": [],
   "source": []
  },
  {
   "cell_type": "code",
   "execution_count": 2,
   "metadata": {},
   "outputs": [
    {
     "name": "stdout",
     "output_type": "stream",
     "text": [
      "[<Reaction: Reaction object (6)>, <Reaction: Reaction object (7)>, <Reaction: Reaction object (8)>]\n",
      "[]\n",
      "[<Reaction: Reaction object (16)>]\n",
      "get comments sub call 0\n",
      "get comments-reactions 0\n",
      "get comments sub call 0\n",
      "get comments-reactions 0\n",
      "get comments sub call 0\n",
      "get comments-reactions 0\n",
      "get comments 0\n"
     ]
    },
    {
     "data": {
      "text/plain": [
       "[]"
      ]
     },
     "execution_count": 2,
     "metadata": {},
     "output_type": "execute_result"
    }
   ],
   "source": [
    "\n",
    "\n",
    "\n",
    "\n",
    "from fbposts.models import *\n",
    "from django.db.models import Prefetch\n",
    "\n",
    "comments = Comment.objects.filter(post_id=1).select_related('commenter') \\\n",
    "        .prefetch_related(Prefetch('replies', queryset=Comment.objects.all(), to_attr='comment_replies'))\\\n",
    "        .prefetch_related(Prefetch('reactions',queryset=Reaction.objects.all(),to_attr='comment_reactions'))\n",
    "\n",
    "\n",
    "\n",
    "\n",
    "\n",
    "\n",
    "\n",
    "\n",
    "for item in comments:\n",
    "    print(item.comment_reactions)\n",
    "from fbposts.comments import get_comments\n",
    "\n",
    "get_comments(comments)\n",
    "\n",
    "\n",
    "\n",
    "\n",
    "\n",
    "\n",
    "\n",
    "\n",
    "\n",
    "\n",
    "\n"
   ]
  },
  {
   "cell_type": "code",
   "execution_count": null,
   "metadata": {},
   "outputs": [],
   "source": []
  }
 ],
 "metadata": {
  "kernelspec": {
   "display_name": "Python 3",
   "language": "python",
   "name": "python3"
  },
  "language_info": {
   "codemirror_mode": {
    "name": "ipython",
    "version": 3
   },
   "file_extension": ".py",
   "mimetype": "text/x-python",
   "name": "python",
   "nbconvert_exporter": "python",
   "pygments_lexer": "ipython3",
   "version": "3.7.3"
  }
 },
 "nbformat": 4,
 "nbformat_minor": 2
}
