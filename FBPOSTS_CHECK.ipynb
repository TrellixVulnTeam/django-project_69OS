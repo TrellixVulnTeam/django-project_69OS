{
 "cells": [
  {
   "cell_type": "code",
   "execution_count": 1,
   "metadata": {},
   "outputs": [],
   "source": [
    "import django\n",
    "import os\n",
    "os.environ[\"DJANGO_SETTINGS_MODULE\"]=\"facebook.settings\"\n",
    "django.setup() "
   ]
  },
  {
   "cell_type": "code",
   "execution_count": 2,
   "metadata": {},
   "outputs": [],
   "source": [
    "from fbposts.posts import get_post"
   ]
  },
  {
   "cell_type": "code",
   "execution_count": 3,
   "metadata": {},
   "outputs": [
    {
     "data": {
      "text/plain": [
       "{'post_id': 1,\n",
       " 'posted_by': {'user_id': 1,\n",
       "  'name': 'ib_admin',\n",
       "  'profile_pic_url': 'sampe.png'},\n",
       " 'posted_at': '19-07-02 11:29:11.605058',\n",
       " 'post_content': 'my first post',\n",
       " 'reactions': {'count': 3, 'type': ['LIKE']},\n",
       " 'comments': [{'comment_id': 1,\n",
       "   'commenter': {'user_id': 2,\n",
       "    'name': 'ib_cricket',\n",
       "    'profile_pic_url': 'cricket.png'},\n",
       "   'commented_at': '19-07-03 04:44:02.248951',\n",
       "   'comment_content': 'hey',\n",
       "   'reactions': {'count': 3, 'type': ['LIKE', 'LOVE', 'WOW']},\n",
       "   'replies_count': 1,\n",
       "   'replies': [{'comment_id': 6,\n",
       "     'commenter': {'user_id': 1,\n",
       "      'name': 'ib_admin',\n",
       "      'profile_pic_url': 'sampe.png'},\n",
       "     'commented_at': '19-07-04 04:38:21.202976',\n",
       "     'comment_content': 'hi',\n",
       "     'reactions': {'count': 1, 'type': ['LIKE']}}]},\n",
       "  {'comment_id': 2,\n",
       "   'commenter': {'user_id': 1,\n",
       "    'name': 'ib_admin',\n",
       "    'profile_pic_url': 'sampe.png'},\n",
       "   'commented_at': '19-07-03 05:34:49.516787',\n",
       "   'comment_content': 'ok',\n",
       "   'reactions': {'count': 0, 'type': []},\n",
       "   'replies_count': 0,\n",
       "   'replies': []},\n",
       "  {'comment_id': 3,\n",
       "   'commenter': {'user_id': 1,\n",
       "    'name': 'ib_admin',\n",
       "    'profile_pic_url': 'sampe.png'},\n",
       "   'commented_at': '19-07-03 11:32:41.583149',\n",
       "   'comment_content': 'jupyter',\n",
       "   'reactions': {'count': 1, 'type': ['LIKE']},\n",
       "   'replies_count': 2,\n",
       "   'replies': [{'comment_id': 4,\n",
       "     'commenter': {'user_id': 2,\n",
       "      'name': 'ib_cricket',\n",
       "      'profile_pic_url': 'cricket.png'},\n",
       "     'commented_at': '19-07-03 11:56:20.160971',\n",
       "     'comment_content': 'reply',\n",
       "     'reactions': {'count': 1, 'type': ['LOVE']}},\n",
       "    {'comment_id': 5,\n",
       "     'commenter': {'user_id': 2,\n",
       "      'name': 'ib_cricket',\n",
       "      'profile_pic_url': 'cricket.png'},\n",
       "     'commented_at': '19-07-03 11:56:40.991983',\n",
       "     'comment_content': 'nested reply',\n",
       "     'reactions': {'count': 1, 'type': ['WOW']}}]}],\n",
       " 'comments_count': 3}"
      ]
     },
     "execution_count": 3,
     "metadata": {},
     "output_type": "execute_result"
    }
   ],
   "source": [
    "get_post(1)"
   ]
  },
  {
   "cell_type": "code",
   "execution_count": 4,
   "metadata": {},
   "outputs": [],
   "source": [
    "from fbposts.posts import create_post"
   ]
  },
  {
   "cell_type": "code",
   "execution_count": 5,
   "metadata": {},
   "outputs": [
    {
     "data": {
      "text/plain": [
       "35"
      ]
     },
     "execution_count": 5,
     "metadata": {},
     "output_type": "execute_result"
    }
   ],
   "source": [
    "create_post(2,\"user2 post\")"
   ]
  },
  {
   "cell_type": "code",
   "execution_count": 6,
   "metadata": {},
   "outputs": [],
   "source": [
    "from fbposts.comments import add_comment"
   ]
  },
  {
   "cell_type": "code",
   "execution_count": 7,
   "metadata": {},
   "outputs": [
    {
     "data": {
      "text/plain": [
       "50"
      ]
     },
     "execution_count": 7,
     "metadata": {},
     "output_type": "execute_result"
    }
   ],
   "source": [
    "add_comment(12,1,\"user1 comment\")"
   ]
  },
  {
   "cell_type": "code",
   "execution_count": 8,
   "metadata": {},
   "outputs": [],
   "source": [
    "from fbposts.comments import reply_to_comment"
   ]
  },
  {
   "cell_type": "code",
   "execution_count": 9,
   "metadata": {},
   "outputs": [
    {
     "data": {
      "text/plain": [
       "51"
      ]
     },
     "execution_count": 9,
     "metadata": {},
     "output_type": "execute_result"
    }
   ],
   "source": [
    "reply_to_comment(7,2,\"user2 reply\")"
   ]
  },
  {
   "cell_type": "code",
   "execution_count": 10,
   "metadata": {},
   "outputs": [],
   "source": [
    "from fbposts.comments import get_replies_for_comment"
   ]
  },
  {
   "cell_type": "code",
   "execution_count": 11,
   "metadata": {},
   "outputs": [
    {
     "data": {
      "text/plain": [
       "[{'comment_id': 8,\n",
       "  'commenter': {'user_id': 2,\n",
       "   'name': 'ib_cricket',\n",
       "   'profile_pic_url': 'cricket.png'},\n",
       "  'commented_at': '19-07-04 04:45:57.172528',\n",
       "  'comment_content': 'user2 reply'},\n",
       " {'comment_id': 10,\n",
       "  'commenter': {'user_id': 2,\n",
       "   'name': 'ib_cricket',\n",
       "   'profile_pic_url': 'cricket.png'},\n",
       "  'commented_at': '19-07-04 04:59:42.779871',\n",
       "  'comment_content': 'user2 reply'},\n",
       " {'comment_id': 12,\n",
       "  'commenter': {'user_id': 2,\n",
       "   'name': 'ib_cricket',\n",
       "   'profile_pic_url': 'cricket.png'},\n",
       "  'commented_at': '19-07-04 05:00:20.141424',\n",
       "  'comment_content': 'user2 reply'},\n",
       " {'comment_id': 14,\n",
       "  'commenter': {'user_id': 2,\n",
       "   'name': 'ib_cricket',\n",
       "   'profile_pic_url': 'cricket.png'},\n",
       "  'commented_at': '19-07-04 05:31:52.541860',\n",
       "  'comment_content': 'user2 reply'},\n",
       " {'comment_id': 16,\n",
       "  'commenter': {'user_id': 2,\n",
       "   'name': 'ib_cricket',\n",
       "   'profile_pic_url': 'cricket.png'},\n",
       "  'commented_at': '19-07-04 05:32:51.437957',\n",
       "  'comment_content': 'user2 reply'},\n",
       " {'comment_id': 18,\n",
       "  'commenter': {'user_id': 2,\n",
       "   'name': 'ib_cricket',\n",
       "   'profile_pic_url': 'cricket.png'},\n",
       "  'commented_at': '19-07-04 05:35:30.264678',\n",
       "  'comment_content': 'user2 reply'},\n",
       " {'comment_id': 20,\n",
       "  'commenter': {'user_id': 2,\n",
       "   'name': 'ib_cricket',\n",
       "   'profile_pic_url': 'cricket.png'},\n",
       "  'commented_at': '19-07-04 05:40:05.293487',\n",
       "  'comment_content': 'user2 reply'},\n",
       " {'comment_id': 22,\n",
       "  'commenter': {'user_id': 2,\n",
       "   'name': 'ib_cricket',\n",
       "   'profile_pic_url': 'cricket.png'},\n",
       "  'commented_at': '19-07-04 05:40:47.621122',\n",
       "  'comment_content': 'user2 reply'},\n",
       " {'comment_id': 24,\n",
       "  'commenter': {'user_id': 2,\n",
       "   'name': 'ib_cricket',\n",
       "   'profile_pic_url': 'cricket.png'},\n",
       "  'commented_at': '19-07-04 09:24:18.463820',\n",
       "  'comment_content': 'user2 reply'},\n",
       " {'comment_id': 26,\n",
       "  'commenter': {'user_id': 2,\n",
       "   'name': 'ib_cricket',\n",
       "   'profile_pic_url': 'cricket.png'},\n",
       "  'commented_at': '19-07-04 09:26:14.291674',\n",
       "  'comment_content': 'user2 reply'},\n",
       " {'comment_id': 31,\n",
       "  'commenter': {'user_id': 2,\n",
       "   'name': 'ib_cricket',\n",
       "   'profile_pic_url': 'cricket.png'},\n",
       "  'commented_at': '19-07-04 09:40:34.795750',\n",
       "  'comment_content': 'user2 reply'},\n",
       " {'comment_id': 33,\n",
       "  'commenter': {'user_id': 2,\n",
       "   'name': 'ib_cricket',\n",
       "   'profile_pic_url': 'cricket.png'},\n",
       "  'commented_at': '19-07-04 09:43:33.205450',\n",
       "  'comment_content': 'user2 reply'},\n",
       " {'comment_id': 35,\n",
       "  'commenter': {'user_id': 2,\n",
       "   'name': 'ib_cricket',\n",
       "   'profile_pic_url': 'cricket.png'},\n",
       "  'commented_at': '19-07-04 09:43:43.403444',\n",
       "  'comment_content': 'user2 reply'},\n",
       " {'comment_id': 37,\n",
       "  'commenter': {'user_id': 2,\n",
       "   'name': 'ib_cricket',\n",
       "   'profile_pic_url': 'cricket.png'},\n",
       "  'commented_at': '19-07-04 09:43:51.542585',\n",
       "  'comment_content': 'user2 reply'},\n",
       " {'comment_id': 39,\n",
       "  'commenter': {'user_id': 2,\n",
       "   'name': 'ib_cricket',\n",
       "   'profile_pic_url': 'cricket.png'},\n",
       "  'commented_at': '19-07-04 09:45:39.879333',\n",
       "  'comment_content': 'user2 reply'},\n",
       " {'comment_id': 41,\n",
       "  'commenter': {'user_id': 2,\n",
       "   'name': 'ib_cricket',\n",
       "   'profile_pic_url': 'cricket.png'},\n",
       "  'commented_at': '19-07-04 09:45:56.221069',\n",
       "  'comment_content': 'user2 reply'},\n",
       " {'comment_id': 43,\n",
       "  'commenter': {'user_id': 2,\n",
       "   'name': 'ib_cricket',\n",
       "   'profile_pic_url': 'cricket.png'},\n",
       "  'commented_at': '19-07-04 09:48:26.928371',\n",
       "  'comment_content': 'user2 reply'},\n",
       " {'comment_id': 45,\n",
       "  'commenter': {'user_id': 2,\n",
       "   'name': 'ib_cricket',\n",
       "   'profile_pic_url': 'cricket.png'},\n",
       "  'commented_at': '19-07-04 09:53:45.558747',\n",
       "  'comment_content': 'user2 reply'},\n",
       " {'comment_id': 47,\n",
       "  'commenter': {'user_id': 2,\n",
       "   'name': 'ib_cricket',\n",
       "   'profile_pic_url': 'cricket.png'},\n",
       "  'commented_at': '19-07-04 10:01:03.989926',\n",
       "  'comment_content': 'user2 reply'},\n",
       " {'comment_id': 49,\n",
       "  'commenter': {'user_id': 2,\n",
       "   'name': 'ib_cricket',\n",
       "   'profile_pic_url': 'cricket.png'},\n",
       "  'commented_at': '19-07-04 10:04:59.129250',\n",
       "  'comment_content': 'user2 reply'},\n",
       " {'comment_id': 51,\n",
       "  'commenter': {'user_id': 2,\n",
       "   'name': 'ib_cricket',\n",
       "   'profile_pic_url': 'cricket.png'},\n",
       "  'commented_at': '19-07-04 10:05:16.829266',\n",
       "  'comment_content': 'user2 reply'}]"
      ]
     },
     "execution_count": 11,
     "metadata": {},
     "output_type": "execute_result"
    }
   ],
   "source": [
    "get_replies_for_comment(7)"
   ]
  },
  {
   "cell_type": "code",
   "execution_count": 12,
   "metadata": {},
   "outputs": [],
   "source": [
    "from fbposts.reactions import react_to_post"
   ]
  },
  {
   "cell_type": "code",
   "execution_count": 13,
   "metadata": {},
   "outputs": [],
   "source": [
    "react_to_post(3,12,'WOW')"
   ]
  },
  {
   "cell_type": "code",
   "execution_count": 14,
   "metadata": {},
   "outputs": [],
   "source": [
    "from fbposts.posts import get_reactions_to_post"
   ]
  },
  {
   "cell_type": "code",
   "execution_count": 15,
   "metadata": {},
   "outputs": [
    {
     "data": {
      "text/plain": [
       "[{'user_id': 2,\n",
       "  'name': 'ib_cricket',\n",
       "  'profile_pic_url': 'cricket.png',\n",
       "  'reaction': 'LIKE'},\n",
       " {'user_id': 3,\n",
       "  'name': 'cybereye',\n",
       "  'profile_pic_url': 'cyber.jpg',\n",
       "  'reaction': 'LIKE'},\n",
       " {'user_id': 1,\n",
       "  'name': 'ib_admin',\n",
       "  'profile_pic_url': 'sampe.png',\n",
       "  'reaction': 'LIKE'}]"
      ]
     },
     "execution_count": 15,
     "metadata": {},
     "output_type": "execute_result"
    }
   ],
   "source": [
    "get_reactions_to_post(1)"
   ]
  },
  {
   "cell_type": "code",
   "execution_count": 16,
   "metadata": {},
   "outputs": [],
   "source": [
    "from fbposts.reactions import react_to_comment"
   ]
  },
  {
   "cell_type": "code",
   "execution_count": 17,
   "metadata": {},
   "outputs": [],
   "source": [
    "react_to_comment(1,8,'WOW')"
   ]
  },
  {
   "cell_type": "code",
   "execution_count": 18,
   "metadata": {},
   "outputs": [],
   "source": [
    "from fbposts.posts import get_user_posts"
   ]
  },
  {
   "cell_type": "code",
   "execution_count": 19,
   "metadata": {},
   "outputs": [
    {
     "data": {
      "text/plain": [
       "[{'post_id': 1,\n",
       "  'posted_by': {'user_id': 1,\n",
       "   'name': 'ib_admin',\n",
       "   'profile_pic_url': 'sampe.png'},\n",
       "  'posted_at': '19-07-02 11:29:11.605058',\n",
       "  'post_content': 'my first post',\n",
       "  'reactions': {'count': 3, 'type': ['LIKE']},\n",
       "  'comments': [{'comment_id': 1,\n",
       "    'commenter': {'user_id': 2,\n",
       "     'name': 'ib_cricket',\n",
       "     'profile_pic_url': 'cricket.png'},\n",
       "    'commented_at': '19-07-03 04:44:02.248951',\n",
       "    'comment_content': 'hey',\n",
       "    'reactions': {'count': 3, 'type': ['LIKE', 'LOVE', 'WOW']},\n",
       "    'replies_count': 1,\n",
       "    'replies': [{'comment_id': 6,\n",
       "      'commenter': {'user_id': 1,\n",
       "       'name': 'ib_admin',\n",
       "       'profile_pic_url': 'sampe.png'},\n",
       "      'commented_at': '19-07-04 04:38:21.202976',\n",
       "      'comment_content': 'hi',\n",
       "      'reactions': {'count': 1, 'type': ['LIKE']}}]},\n",
       "   {'comment_id': 2,\n",
       "    'commenter': {'user_id': 1,\n",
       "     'name': 'ib_admin',\n",
       "     'profile_pic_url': 'sampe.png'},\n",
       "    'commented_at': '19-07-03 05:34:49.516787',\n",
       "    'comment_content': 'ok',\n",
       "    'reactions': {'count': 0, 'type': []},\n",
       "    'replies_count': 0,\n",
       "    'replies': []},\n",
       "   {'comment_id': 3,\n",
       "    'commenter': {'user_id': 1,\n",
       "     'name': 'ib_admin',\n",
       "     'profile_pic_url': 'sampe.png'},\n",
       "    'commented_at': '19-07-03 11:32:41.583149',\n",
       "    'comment_content': 'jupyter',\n",
       "    'reactions': {'count': 1, 'type': ['LIKE']},\n",
       "    'replies_count': 2,\n",
       "    'replies': [{'comment_id': 4,\n",
       "      'commenter': {'user_id': 2,\n",
       "       'name': 'ib_cricket',\n",
       "       'profile_pic_url': 'cricket.png'},\n",
       "      'commented_at': '19-07-03 11:56:20.160971',\n",
       "      'comment_content': 'reply',\n",
       "      'reactions': {'count': 1, 'type': ['LOVE']}},\n",
       "     {'comment_id': 5,\n",
       "      'commenter': {'user_id': 2,\n",
       "       'name': 'ib_cricket',\n",
       "       'profile_pic_url': 'cricket.png'},\n",
       "      'commented_at': '19-07-03 11:56:40.991983',\n",
       "      'comment_content': 'nested reply',\n",
       "      'reactions': {'count': 1, 'type': ['WOW']}}]}],\n",
       "  'comments_count': 3},\n",
       " {'post_id': 3,\n",
       "  'posted_by': {'user_id': 1,\n",
       "   'name': 'ib_admin',\n",
       "   'profile_pic_url': 'sampe.png'},\n",
       "  'posted_at': '19-07-03 07:07:04.830039',\n",
       "  'post_content': 'through jupyter',\n",
       "  'reactions': {'count': 3, 'type': ['ANGRY', 'HAHA', 'SAD']},\n",
       "  'comments': [],\n",
       "  'comments_count': 0}]"
      ]
     },
     "execution_count": 19,
     "metadata": {},
     "output_type": "execute_result"
    }
   ],
   "source": [
    "get_user_posts(1)"
   ]
  },
  {
   "cell_type": "code",
   "execution_count": 20,
   "metadata": {},
   "outputs": [],
   "source": [
    "from fbposts.posts import get_posts_with_more_positive_reactions"
   ]
  },
  {
   "cell_type": "code",
   "execution_count": 21,
   "metadata": {},
   "outputs": [
    {
     "data": {
      "text/plain": [
       "[1, 2, 12]"
      ]
     },
     "execution_count": 21,
     "metadata": {},
     "output_type": "execute_result"
    }
   ],
   "source": [
    "get_posts_with_more_positive_reactions()"
   ]
  },
  {
   "cell_type": "code",
   "execution_count": 22,
   "metadata": {},
   "outputs": [],
   "source": [
    "from fbposts.posts import get_posts_reacted_by_user"
   ]
  },
  {
   "cell_type": "code",
   "execution_count": 23,
   "metadata": {},
   "outputs": [
    {
     "data": {
      "text/plain": [
       "[{'post_id': 2,\n",
       "  'posted_by': {'user_id': 2,\n",
       "   'name': 'ib_cricket',\n",
       "   'profile_pic_url': 'cricket.png'},\n",
       "  'posted_at': '19-07-03 04:41:30.292149',\n",
       "  'post_content': 'user2 post',\n",
       "  'reactions': {'count': 2, 'type': ['HAHA', 'WOW']},\n",
       "  'comments': [],\n",
       "  'comments_count': 0},\n",
       " {'post_id': 3,\n",
       "  'posted_by': {'user_id': 1,\n",
       "   'name': 'ib_admin',\n",
       "   'profile_pic_url': 'sampe.png'},\n",
       "  'posted_at': '19-07-03 07:07:04.830039',\n",
       "  'post_content': 'through jupyter',\n",
       "  'reactions': {'count': 3, 'type': ['ANGRY', 'HAHA', 'SAD']},\n",
       "  'comments': [],\n",
       "  'comments_count': 0},\n",
       " {'post_id': 1,\n",
       "  'posted_by': {'user_id': 1,\n",
       "   'name': 'ib_admin',\n",
       "   'profile_pic_url': 'sampe.png'},\n",
       "  'posted_at': '19-07-02 11:29:11.605058',\n",
       "  'post_content': 'my first post',\n",
       "  'reactions': {'count': 3, 'type': ['LIKE']},\n",
       "  'comments': [{'comment_id': 1,\n",
       "    'commenter': {'user_id': 2,\n",
       "     'name': 'ib_cricket',\n",
       "     'profile_pic_url': 'cricket.png'},\n",
       "    'commented_at': '19-07-03 04:44:02.248951',\n",
       "    'comment_content': 'hey',\n",
       "    'reactions': {'count': 3, 'type': ['LIKE', 'LOVE', 'WOW']},\n",
       "    'replies_count': 1,\n",
       "    'replies': [{'comment_id': 6,\n",
       "      'commenter': {'user_id': 1,\n",
       "       'name': 'ib_admin',\n",
       "       'profile_pic_url': 'sampe.png'},\n",
       "      'commented_at': '19-07-04 04:38:21.202976',\n",
       "      'comment_content': 'hi',\n",
       "      'reactions': {'count': 1, 'type': ['LIKE']}}]},\n",
       "   {'comment_id': 2,\n",
       "    'commenter': {'user_id': 1,\n",
       "     'name': 'ib_admin',\n",
       "     'profile_pic_url': 'sampe.png'},\n",
       "    'commented_at': '19-07-03 05:34:49.516787',\n",
       "    'comment_content': 'ok',\n",
       "    'reactions': {'count': 0, 'type': []},\n",
       "    'replies_count': 0,\n",
       "    'replies': []},\n",
       "   {'comment_id': 3,\n",
       "    'commenter': {'user_id': 1,\n",
       "     'name': 'ib_admin',\n",
       "     'profile_pic_url': 'sampe.png'},\n",
       "    'commented_at': '19-07-03 11:32:41.583149',\n",
       "    'comment_content': 'jupyter',\n",
       "    'reactions': {'count': 1, 'type': ['LIKE']},\n",
       "    'replies_count': 2,\n",
       "    'replies': [{'comment_id': 4,\n",
       "      'commenter': {'user_id': 2,\n",
       "       'name': 'ib_cricket',\n",
       "       'profile_pic_url': 'cricket.png'},\n",
       "      'commented_at': '19-07-03 11:56:20.160971',\n",
       "      'comment_content': 'reply',\n",
       "      'reactions': {'count': 1, 'type': ['LOVE']}},\n",
       "     {'comment_id': 5,\n",
       "      'commenter': {'user_id': 2,\n",
       "       'name': 'ib_cricket',\n",
       "       'profile_pic_url': 'cricket.png'},\n",
       "      'commented_at': '19-07-03 11:56:40.991983',\n",
       "      'comment_content': 'nested reply',\n",
       "      'reactions': {'count': 1, 'type': ['WOW']}}]}],\n",
       "  'comments_count': 3}]"
      ]
     },
     "execution_count": 23,
     "metadata": {},
     "output_type": "execute_result"
    }
   ],
   "source": [
    "get_posts_reacted_by_user(1)"
   ]
  },
  {
   "cell_type": "code",
   "execution_count": 24,
   "metadata": {},
   "outputs": [],
   "source": [
    "from fbposts.reactions import get_reaction_metrics"
   ]
  },
  {
   "cell_type": "code",
   "execution_count": 25,
   "metadata": {},
   "outputs": [
    {
     "data": {
      "text/plain": [
       "{'ANGRY': 1, 'HAHA': 1, 'SAD': 1}"
      ]
     },
     "execution_count": 25,
     "metadata": {},
     "output_type": "execute_result"
    }
   ],
   "source": [
    "get_reaction_metrics(3)"
   ]
  },
  {
   "cell_type": "code",
   "execution_count": 26,
   "metadata": {},
   "outputs": [],
   "source": [
    "from fbposts.reactions import get_total_reaction_count"
   ]
  },
  {
   "cell_type": "code",
   "execution_count": 27,
   "metadata": {},
   "outputs": [
    {
     "data": {
      "text/plain": [
       "{1: 3, 2: 2, 3: 3, 12: 1}"
      ]
     },
     "execution_count": 27,
     "metadata": {},
     "output_type": "execute_result"
    }
   ],
   "source": [
    "get_total_reaction_count()"
   ]
  },
  {
   "cell_type": "code",
   "execution_count": 28,
   "metadata": {},
   "outputs": [],
   "source": [
    "import datetime"
   ]
  },
  {
   "cell_type": "code",
   "execution_count": 29,
   "metadata": {},
   "outputs": [
    {
     "data": {
      "text/plain": [
       "'2019-07-04 10:05:17.005673'"
      ]
     },
     "execution_count": 29,
     "metadata": {},
     "output_type": "execute_result"
    }
   ],
   "source": [
    "str(datetime.datetime.now())"
   ]
  },
  {
   "cell_type": "code",
   "execution_count": null,
   "metadata": {},
   "outputs": [],
   "source": []
  }
 ],
 "metadata": {
  "kernelspec": {
   "display_name": "Python 3",
   "language": "python",
   "name": "python3"
  },
  "language_info": {
   "codemirror_mode": {
    "name": "ipython",
    "version": 3
   },
   "file_extension": ".py",
   "mimetype": "text/x-python",
   "name": "python",
   "nbconvert_exporter": "python",
   "pygments_lexer": "ipython3",
   "version": "3.7.3"
  }
 },
 "nbformat": 4,
 "nbformat_minor": 2
}
