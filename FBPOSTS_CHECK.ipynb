{
 "cells": [
  {
   "cell_type": "code",
   "execution_count": 1,
   "metadata": {},
   "outputs": [],
   "source": [
    "import django\n",
    "import os\n",
    "os.environ[\"DJANGO_SETTINGS_MODULE\"]=\"facebook.settings\"\n",
    "django.setup() "
   ]
  },
  {
   "cell_type": "code",
   "execution_count": null,
   "metadata": {},
   "outputs": [],
   "source": [
    "from fbposts.posts import get_post"
   ]
  },
  {
   "cell_type": "code",
   "execution_count": null,
   "metadata": {},
   "outputs": [],
   "source": [
    "get_post(1)"
   ]
  },
  {
   "cell_type": "code",
   "execution_count": null,
   "metadata": {},
   "outputs": [],
   "source": [
    "from fbposts.posts import create_post"
   ]
  },
  {
   "cell_type": "code",
   "execution_count": null,
   "metadata": {},
   "outputs": [],
   "source": [
    "create_post(2,\"user2 post\")"
   ]
  },
  {
   "cell_type": "code",
   "execution_count": null,
   "metadata": {},
   "outputs": [],
   "source": [
    "from fbposts.comments import add_comment"
   ]
  },
  {
   "cell_type": "code",
   "execution_count": null,
   "metadata": {},
   "outputs": [],
   "source": [
    "add_comment(12,1,\"user1 comment\")"
   ]
  },
  {
   "cell_type": "code",
   "execution_count": null,
   "metadata": {},
   "outputs": [],
   "source": [
    "from fbposts.comments import reply_to_comment"
   ]
  },
  {
   "cell_type": "code",
   "execution_count": null,
   "metadata": {},
   "outputs": [],
   "source": [
    "reply_to_comment(7,2,\"user2 reply\")"
   ]
  },
  {
   "cell_type": "code",
   "execution_count": null,
   "metadata": {},
   "outputs": [],
   "source": [
    "from fbposts.comments import get_replies_for_comment"
   ]
  },
  {
   "cell_type": "code",
   "execution_count": null,
   "metadata": {},
   "outputs": [],
   "source": [
    "get_replies_for_comment(7)"
   ]
  },
  {
   "cell_type": "code",
   "execution_count": null,
   "metadata": {},
   "outputs": [],
   "source": [
    "from fbposts.reactions import react_to_post"
   ]
  },
  {
   "cell_type": "code",
   "execution_count": null,
   "metadata": {},
   "outputs": [],
   "source": [
    "react_to_post(3,12,'WOW')"
   ]
  },
  {
   "cell_type": "code",
   "execution_count": null,
   "metadata": {},
   "outputs": [],
   "source": [
    "from fbposts.posts import get_reactions_to_post"
   ]
  },
  {
   "cell_type": "code",
   "execution_count": null,
   "metadata": {},
   "outputs": [],
   "source": [
    "get_reactions_to_post(1)"
   ]
  },
  {
   "cell_type": "code",
   "execution_count": null,
   "metadata": {},
   "outputs": [],
   "source": [
    "from fbposts.reactions import react_to_comment"
   ]
  },
  {
   "cell_type": "code",
   "execution_count": null,
   "metadata": {},
   "outputs": [],
   "source": [
    "react_to_comment(1,8,'WOW')"
   ]
  },
  {
   "cell_type": "code",
   "execution_count": null,
   "metadata": {},
   "outputs": [],
   "source": [
    "from fbposts.posts import get_user_posts"
   ]
  },
  {
   "cell_type": "code",
   "execution_count": null,
   "metadata": {},
   "outputs": [],
   "source": [
    "get_user_posts(1)"
   ]
  },
  {
   "cell_type": "code",
   "execution_count": null,
   "metadata": {},
   "outputs": [],
   "source": [
    "from fbposts.posts import get_posts_with_more_positive_reactions"
   ]
  },
  {
   "cell_type": "code",
   "execution_count": null,
   "metadata": {},
   "outputs": [],
   "source": [
    "get_posts_with_more_positive_reactions()"
   ]
  },
  {
   "cell_type": "code",
   "execution_count": 2,
   "metadata": {},
   "outputs": [],
   "source": [
    "from fbposts.posts import get_posts_reacted_by_user"
   ]
  },
  {
   "cell_type": "code",
   "execution_count": 3,
   "metadata": {},
   "outputs": [
    {
     "data": {
      "text/plain": [
       "[{'post_id': 2,\n",
       "  'posted_by': {'user_id': 2,\n",
       "   'name': 'ib_cricket',\n",
       "   'profile_pic_url': 'cricket.png'},\n",
       "  'posted_at': '19-07-03 04:41:30.292149',\n",
       "  'post_content': 'user2 post',\n",
       "  'reactions': {'count': 2, 'type': ['HAHA', 'WOW']},\n",
       "  'comments': [],\n",
       "  'comments_count': 0},\n",
       " {'post_id': 3,\n",
       "  'posted_by': {'user_id': 1,\n",
       "   'name': 'ib_admin',\n",
       "   'profile_pic_url': 'sampe.png'},\n",
       "  'posted_at': '19-07-03 07:07:04.830039',\n",
       "  'post_content': 'through jupyter',\n",
       "  'reactions': {'count': 3, 'type': ['ANGRY', 'HAHA', 'SAD']},\n",
       "  'comments': [],\n",
       "  'comments_count': 0},\n",
       " {'post_id': 1,\n",
       "  'posted_by': {'user_id': 1,\n",
       "   'name': 'ib_admin',\n",
       "   'profile_pic_url': 'sampe.png'},\n",
       "  'posted_at': '19-07-02 11:29:11.605058',\n",
       "  'post_content': 'my first post',\n",
       "  'reactions': {'count': 3, 'type': ['LIKE']},\n",
       "  'comments': [{'comment_id': 1,\n",
       "    'commenter': {'user_id': 2,\n",
       "     'name': 'ib_cricket',\n",
       "     'profile_pic_url': 'cricket.png'},\n",
       "    'commented_at': '19-07-03 04:44:02.248951',\n",
       "    'comment_content': 'hey',\n",
       "    'reactions': {'count': 3, 'type': ['LIKE', 'LOVE', 'WOW']},\n",
       "    'replies_count': 1,\n",
       "    'replies': [{'comment_id': 6,\n",
       "      'commenter': {'user_id': 1,\n",
       "       'name': 'ib_admin',\n",
       "       'profile_pic_url': 'sampe.png'},\n",
       "      'commented_at': '19-07-04 04:38:21.202976',\n",
       "      'comment_content': 'hi',\n",
       "      'reactions': {'count': 1, 'type': ['LIKE']}}]},\n",
       "   {'comment_id': 2,\n",
       "    'commenter': {'user_id': 1,\n",
       "     'name': 'ib_admin',\n",
       "     'profile_pic_url': 'sampe.png'},\n",
       "    'commented_at': '19-07-03 05:34:49.516787',\n",
       "    'comment_content': 'ok',\n",
       "    'reactions': {'count': 0, 'type': []},\n",
       "    'replies_count': 0,\n",
       "    'replies': []},\n",
       "   {'comment_id': 3,\n",
       "    'commenter': {'user_id': 1,\n",
       "     'name': 'ib_admin',\n",
       "     'profile_pic_url': 'sampe.png'},\n",
       "    'commented_at': '19-07-03 11:32:41.583149',\n",
       "    'comment_content': 'jupyter',\n",
       "    'reactions': {'count': 1, 'type': ['LIKE']},\n",
       "    'replies_count': 2,\n",
       "    'replies': [{'comment_id': 4,\n",
       "      'commenter': {'user_id': 2,\n",
       "       'name': 'ib_cricket',\n",
       "       'profile_pic_url': 'cricket.png'},\n",
       "      'commented_at': '19-07-03 11:56:20.160971',\n",
       "      'comment_content': 'reply',\n",
       "      'reactions': {'count': 1, 'type': ['LOVE']}},\n",
       "     {'comment_id': 5,\n",
       "      'commenter': {'user_id': 2,\n",
       "       'name': 'ib_cricket',\n",
       "       'profile_pic_url': 'cricket.png'},\n",
       "      'commented_at': '19-07-03 11:56:40.991983',\n",
       "      'comment_content': 'nested reply',\n",
       "      'reactions': {'count': 1, 'type': ['WOW']}}]}],\n",
       "  'comments_count': 3}]"
      ]
     },
     "execution_count": 3,
     "metadata": {},
     "output_type": "execute_result"
    }
   ],
   "source": [
    "get_posts_reacted_by_user(1)"
   ]
  },
  {
   "cell_type": "code",
   "execution_count": null,
   "metadata": {},
   "outputs": [],
   "source": [
    "from fbposts.reactions import get_reaction_metrics"
   ]
  },
  {
   "cell_type": "code",
   "execution_count": null,
   "metadata": {},
   "outputs": [],
   "source": [
    "get_reaction_metrics(3)"
   ]
  },
  {
   "cell_type": "code",
   "execution_count": null,
   "metadata": {},
   "outputs": [],
   "source": [
    "from fbposts.reactions import get_total_reaction_count"
   ]
  },
  {
   "cell_type": "code",
   "execution_count": null,
   "metadata": {},
   "outputs": [],
   "source": [
    "get_total_reaction_count()"
   ]
  },
  {
   "cell_type": "code",
   "execution_count": null,
   "metadata": {},
   "outputs": [],
   "source": [
    "import datetime"
   ]
  },
  {
   "cell_type": "code",
   "execution_count": null,
   "metadata": {},
   "outputs": [],
   "source": [
    "str(datetime.datetime.now())"
   ]
  },
  {
   "cell_type": "code",
   "execution_count": null,
   "metadata": {},
   "outputs": [],
   "source": []
  }
 ],
 "metadata": {
  "kernelspec": {
   "display_name": "Python 3",
   "language": "python",
   "name": "python3"
  },
  "language_info": {
   "codemirror_mode": {
    "name": "ipython",
    "version": 3
   },
   "file_extension": ".py",
   "mimetype": "text/x-python",
   "name": "python",
   "nbconvert_exporter": "python",
   "pygments_lexer": "ipython3",
   "version": "3.7.3"
  }
 },
 "nbformat": 4,
 "nbformat_minor": 2
}
