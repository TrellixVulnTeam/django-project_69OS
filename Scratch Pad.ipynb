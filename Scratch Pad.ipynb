{
 "cells": [
  {
   "cell_type": "code",
   "execution_count": 1,
   "metadata": {},
   "outputs": [],
   "source": [
    "import django\n",
    "import os\n",
    "os.environ[\"DJANGO_SETTINGS_MODULE\"]=\"facebook.settings\"\n",
    "django.setup()"
   ]
  },
  {
   "cell_type": "code",
   "execution_count": 3,
   "metadata": {},
   "outputs": [],
   "source": [
    "from fbposts.views import react_to_post\n"
   ]
  },
  {
   "cell_type": "code",
   "execution_count": 4,
   "metadata": {},
   "outputs": [],
   "source": [
    "react_to_post(2,1,'WOW')"
   ]
  },
  {
   "cell_type": "code",
   "execution_count": 6,
   "metadata": {},
   "outputs": [],
   "source": [
    "react_to_post(4,1,'LIKE')"
   ]
  },
  {
   "cell_type": "code",
   "execution_count": 7,
   "metadata": {},
   "outputs": [],
   "source": [
    "from fbposts.views import add_comment"
   ]
  },
  {
   "cell_type": "code",
   "execution_count": 9,
   "metadata": {},
   "outputs": [
    {
     "name": "stderr",
     "output_type": "stream",
     "text": [
      "/home/ib_admin/PycharmProjects/untitled/.venv/lib/python3.7/site-packages/django/db/models/fields/__init__.py:1421: RuntimeWarning: DateTimeField Comment.commented_at received a naive datetime (2019-06-28 08:32:36.007275) while time zone support is active.\n",
      "  RuntimeWarning)\n"
     ]
    },
    {
     "data": {
      "text/plain": [
       "6"
      ]
     },
     "execution_count": 9,
     "metadata": {},
     "output_type": "execute_result"
    }
   ],
   "source": [
    "add_comment(1,3,'go on')"
   ]
  },
  {
   "cell_type": "code",
   "execution_count": 2,
   "metadata": {},
   "outputs": [],
   "source": [
    "from fbposts.views import react_to_comment"
   ]
  },
  {
   "cell_type": "code",
   "execution_count": 5,
   "metadata": {},
   "outputs": [
    {
     "name": "stdout",
     "output_type": "stream",
     "text": [
      "1\n",
      "2\n",
      "2\n",
      "2\n",
      "2\n",
      "2\n",
      "2\n",
      "2\n",
      "2\n",
      "2\n",
      "2\n",
      "2\n",
      "3\n",
      "2\n",
      "3\n",
      "2\n",
      "3\n",
      "4\n",
      "5\n"
     ]
    }
   ],
   "source": [
    "react_to_comment(5,2,'LIKE')"
   ]
  },
  {
   "cell_type": "code",
   "execution_count": 14,
   "metadata": {},
   "outputs": [
    {
     "ename": "ImportError",
     "evalue": "cannot import name 'add_user' from 'fbposts.views' (/home/ib_admin/PycharmProjects/facebook/fbposts/views.py)",
     "output_type": "error",
     "traceback": [
      "\u001b[0;31m---------------------------------------------------------------------------\u001b[0m",
      "\u001b[0;31mImportError\u001b[0m                               Traceback (most recent call last)",
      "\u001b[0;32m<ipython-input-14-a9a6748491ac>\u001b[0m in \u001b[0;36m<module>\u001b[0;34m\u001b[0m\n\u001b[0;32m----> 1\u001b[0;31m \u001b[0;32mfrom\u001b[0m \u001b[0mfbposts\u001b[0m\u001b[0;34m.\u001b[0m\u001b[0mviews\u001b[0m \u001b[0;32mimport\u001b[0m \u001b[0madd_user\u001b[0m\u001b[0;34m\u001b[0m\u001b[0;34m\u001b[0m\u001b[0m\n\u001b[0m",
      "\u001b[0;31mImportError\u001b[0m: cannot import name 'add_user' from 'fbposts.views' (/home/ib_admin/PycharmProjects/facebook/fbposts/views.py)"
     ]
    }
   ],
   "source": [
    "from fbposts.views import add_user"
   ]
  },
  {
   "cell_type": "code",
   "execution_count": 3,
   "metadata": {},
   "outputs": [
    {
     "name": "stdout",
     "output_type": "stream",
     "text": [
      "2\n"
     ]
    }
   ],
   "source": [
    "check()"
   ]
  },
  {
   "cell_type": "code",
   "execution_count": 4,
   "metadata": {},
   "outputs": [],
   "source": [
    "from fbposts.views import get_post"
   ]
  },
  {
   "cell_type": "code",
   "execution_count": 5,
   "metadata": {},
   "outputs": [
    {
     "data": {
      "text/plain": [
       "{'post_id': 1,\n",
       " 'posted_by': {'user_id': 2,\n",
       "  'name': 'rachana',\n",
       "  'profile_pic_url': '/home/ib_admin/sample2.png'},\n",
       " 'posted_at': '2019-06-27 11:16:06.346545+00:00',\n",
       " 'post_content': 'My first post',\n",
       " 'reactions': {'count': 2, 'type': ['LIKE', 'WOW']},\n",
       " 'comments': [{'comment_id': 1,\n",
       "   'commenter': {'user_id': 2,\n",
       "    'name': 'rachana',\n",
       "    'profile_pic_url': '/home/ib_admin/sample2.png'},\n",
       "   'commented_at': None,\n",
       "   'comment_content': 'wow',\n",
       "   'reactions': {'count': 0, 'type': []},\n",
       "   'replies_count': 1,\n",
       "   'replies': [{'comment_id': 4,\n",
       "     'commenter': {'user_id': 2,\n",
       "      'name': 'rachana',\n",
       "      'profile_pic_url': '/home/ib_admin/sample2.png'},\n",
       "     'commented_at': None,\n",
       "     'comment_content': 'true',\n",
       "     'reactions': {'count': 0, 'type': []}}]},\n",
       "  {'comment_id': 2,\n",
       "   'commenter': {'user_id': 3,\n",
       "    'name': 'navya',\n",
       "    'profile_pic_url': '/home/ib_admin/sample2.png'},\n",
       "   'commented_at': None,\n",
       "   'comment_content': 'nice',\n",
       "   'reactions': {'count': 0, 'type': []},\n",
       "   'replies_count': 0,\n",
       "   'replies': []},\n",
       "  {'comment_id': 3,\n",
       "   'commenter': {'user_id': 3,\n",
       "    'name': 'navya',\n",
       "    'profile_pic_url': '/home/ib_admin/sample2.png'},\n",
       "   'commented_at': None,\n",
       "   'comment_content': 'nice',\n",
       "   'reactions': {'count': 0, 'type': []},\n",
       "   'replies_count': 0,\n",
       "   'replies': []},\n",
       "  {'comment_id': 5,\n",
       "   'commenter': {'user_id': 2,\n",
       "    'name': 'rachana',\n",
       "    'profile_pic_url': '/home/ib_admin/sample2.png'},\n",
       "   'commented_at': datetime.datetime(2019, 6, 28, 8, 32, 15, 607940, tzinfo=<UTC>),\n",
       "   'comment_content': 'great',\n",
       "   'reactions': {'count': 0, 'type': []},\n",
       "   'replies_count': 0,\n",
       "   'replies': []},\n",
       "  {'comment_id': 6,\n",
       "   'commenter': {'user_id': 3,\n",
       "    'name': 'navya',\n",
       "    'profile_pic_url': '/home/ib_admin/sample2.png'},\n",
       "   'commented_at': datetime.datetime(2019, 6, 28, 8, 32, 36, 7275, tzinfo=<UTC>),\n",
       "   'comment_content': 'go on',\n",
       "   'reactions': {'count': 1, 'type': ['ANGRY']},\n",
       "   'replies_count': 0,\n",
       "   'replies': []}],\n",
       " 'comments_count': 5}"
      ]
     },
     "execution_count": 5,
     "metadata": {},
     "output_type": "execute_result"
    }
   ],
   "source": [
    "get_post(1)"
   ]
  },
  {
   "cell_type": "code",
   "execution_count": 4,
   "metadata": {},
   "outputs": [],
   "source": [
    "from fbposts.views import get_user_posts"
   ]
  },
  {
   "cell_type": "code",
   "execution_count": 5,
   "metadata": {},
   "outputs": [
    {
     "data": {
      "text/plain": [
       "[{'post_id': 1,\n",
       "  'posted_by': {'user_id': 2,\n",
       "   'name': 'rachana',\n",
       "   'profile_pic_url': '/home/ib_admin/sample2.png'},\n",
       "  'posted_at': '2019-06-27 11:16:06.346545+00:00',\n",
       "  'post_content': 'My first post',\n",
       "  'reactions': {'count': 0, 'type': []},\n",
       "  'comments': [{'comment_id': 1,\n",
       "    'commenter': {'user_id': 2,\n",
       "     'name': 'rachana',\n",
       "     'profile_pic_url': '/home/ib_admin/sample2.png'},\n",
       "    'commented_at': None,\n",
       "    'comment_content': 'wow',\n",
       "    'reactions': {'count': 0, 'type': []},\n",
       "    'replies_count': 1,\n",
       "    'replies': [{'comment_id': 4,\n",
       "      'commenter': {'user_id': 2,\n",
       "       'name': 'rachana',\n",
       "       'profile_pic_url': '/home/ib_admin/sample2.png'},\n",
       "      'commented_at': None,\n",
       "      'comment_content': 'true',\n",
       "      'reactions': {'count': 0, 'type': []}}]},\n",
       "   {'comment_id': 2,\n",
       "    'commenter': {'user_id': 3,\n",
       "     'name': 'navya',\n",
       "     'profile_pic_url': '/home/ib_admin/sample2.png'},\n",
       "    'commented_at': None,\n",
       "    'comment_content': 'nice',\n",
       "    'reactions': {'count': 0, 'type': []},\n",
       "    'replies_count': 0,\n",
       "    'replies': []},\n",
       "   {'comment_id': 3,\n",
       "    'commenter': {'user_id': 3,\n",
       "     'name': 'navya',\n",
       "     'profile_pic_url': '/home/ib_admin/sample2.png'},\n",
       "    'commented_at': None,\n",
       "    'comment_content': 'nice',\n",
       "    'reactions': {'count': 0, 'type': []},\n",
       "    'replies_count': 0,\n",
       "    'replies': []},\n",
       "   {'comment_id': 5,\n",
       "    'commenter': {'user_id': 2,\n",
       "     'name': 'rachana',\n",
       "     'profile_pic_url': '/home/ib_admin/sample2.png'},\n",
       "    'commented_at': datetime.datetime(2019, 6, 28, 8, 32, 15, 607940, tzinfo=<UTC>),\n",
       "    'comment_content': 'great',\n",
       "    'reactions': {'count': 0, 'type': []},\n",
       "    'replies_count': 0,\n",
       "    'replies': []},\n",
       "   {'comment_id': 6,\n",
       "    'commenter': {'user_id': 3,\n",
       "     'name': 'navya',\n",
       "     'profile_pic_url': '/home/ib_admin/sample2.png'},\n",
       "    'commented_at': datetime.datetime(2019, 6, 28, 8, 32, 36, 7275, tzinfo=<UTC>),\n",
       "    'comment_content': 'go on',\n",
       "    'reactions': {'count': 1, 'type': ['WOW']},\n",
       "    'replies_count': 0,\n",
       "    'replies': []}],\n",
       "  'comments_count': 5},\n",
       " {'post_id': 2,\n",
       "  'posted_by': {'user_id': 2,\n",
       "   'name': 'rachana',\n",
       "   'profile_pic_url': '/home/ib_admin/sample2.png'},\n",
       "  'posted_at': '2019-06-27 11:18:25.748806+00:00',\n",
       "  'post_content': 'My first post',\n",
       "  'reactions': {'count': 0, 'type': []},\n",
       "  'comments': [],\n",
       "  'comments_count': 0}]"
      ]
     },
     "execution_count": 5,
     "metadata": {},
     "output_type": "execute_result"
    }
   ],
   "source": [
    "get_user_posts(2)"
   ]
  },
  {
   "cell_type": "code",
   "execution_count": 2,
   "metadata": {},
   "outputs": [],
   "source": [
    "from fbposts.views import get_posts_reacted_by_user\n",
    "\n"
   ]
  },
  {
   "cell_type": "code",
   "execution_count": 3,
   "metadata": {},
   "outputs": [
    {
     "data": {
      "text/plain": [
       "[{'post_id': 2,\n",
       "  'posted_by': {'user_id': 2,\n",
       "   'name': 'rachana',\n",
       "   'profile_pic_url': '/home/ib_admin/sample2.png'},\n",
       "  'posted_at': '2019-06-27 11:18:25.748806+00:00',\n",
       "  'post_content': 'My first post',\n",
       "  'reactions': {'count': 1, 'type': ['LIKE']},\n",
       "  'comments': [],\n",
       "  'comments_count': 0},\n",
       " {'post_id': 1,\n",
       "  'posted_by': {'user_id': 2,\n",
       "   'name': 'rachana',\n",
       "   'profile_pic_url': '/home/ib_admin/sample2.png'},\n",
       "  'posted_at': '2019-06-27 11:16:06.346545+00:00',\n",
       "  'post_content': 'My first post',\n",
       "  'reactions': {'count': 2, 'type': ['LIKE', 'WOW']},\n",
       "  'comments': [{'comment_id': 1,\n",
       "    'commenter': {'user_id': 2,\n",
       "     'name': 'rachana',\n",
       "     'profile_pic_url': '/home/ib_admin/sample2.png'},\n",
       "    'commented_at': None,\n",
       "    'comment_content': 'wow',\n",
       "    'reactions': {'count': 0, 'type': []},\n",
       "    'replies_count': 1,\n",
       "    'replies': [{'comment_id': 4,\n",
       "      'commenter': {'user_id': 2,\n",
       "       'name': 'rachana',\n",
       "       'profile_pic_url': '/home/ib_admin/sample2.png'},\n",
       "      'commented_at': None,\n",
       "      'comment_content': 'true',\n",
       "      'reactions': {'count': 0, 'type': []}}]},\n",
       "   {'comment_id': 2,\n",
       "    'commenter': {'user_id': 3,\n",
       "     'name': 'navya',\n",
       "     'profile_pic_url': '/home/ib_admin/sample2.png'},\n",
       "    'commented_at': None,\n",
       "    'comment_content': 'nice',\n",
       "    'reactions': {'count': 0, 'type': []},\n",
       "    'replies_count': 0,\n",
       "    'replies': []},\n",
       "   {'comment_id': 3,\n",
       "    'commenter': {'user_id': 3,\n",
       "     'name': 'navya',\n",
       "     'profile_pic_url': '/home/ib_admin/sample2.png'},\n",
       "    'commented_at': None,\n",
       "    'comment_content': 'nice',\n",
       "    'reactions': {'count': 0, 'type': []},\n",
       "    'replies_count': 0,\n",
       "    'replies': []},\n",
       "   {'comment_id': 5,\n",
       "    'commenter': {'user_id': 2,\n",
       "     'name': 'rachana',\n",
       "     'profile_pic_url': '/home/ib_admin/sample2.png'},\n",
       "    'commented_at': datetime.datetime(2019, 6, 28, 8, 32, 15, 607940, tzinfo=<UTC>),\n",
       "    'comment_content': 'great',\n",
       "    'reactions': {'count': 0, 'type': []},\n",
       "    'replies_count': 0,\n",
       "    'replies': []},\n",
       "   {'comment_id': 6,\n",
       "    'commenter': {'user_id': 3,\n",
       "     'name': 'navya',\n",
       "     'profile_pic_url': '/home/ib_admin/sample2.png'},\n",
       "    'commented_at': datetime.datetime(2019, 6, 28, 8, 32, 36, 7275, tzinfo=<UTC>),\n",
       "    'comment_content': 'go on',\n",
       "    'reactions': {'count': 1, 'type': ['ANGRY']},\n",
       "    'replies_count': 0,\n",
       "    'replies': []}],\n",
       "  'comments_count': 5}]"
      ]
     },
     "execution_count": 3,
     "metadata": {},
     "output_type": "execute_result"
    }
   ],
   "source": [
    "get_posts_reacted_by_user(4)"
   ]
  },
  {
   "cell_type": "code",
   "execution_count": 1,
   "metadata": {},
   "outputs": [],
   "source": [
    "import django\n",
    "import os\n",
    "os.environ[\"DJANGO_SETTINGS_MODULE\"]=\"facebook.settings\"\n",
    "django.setup()"
   ]
  },
  {
   "cell_type": "code",
   "execution_count": 2,
   "metadata": {},
   "outputs": [],
   "source": [
    "from fbposts.views import get_reactions_to_post"
   ]
  },
  {
   "cell_type": "code",
   "execution_count": 3,
   "metadata": {},
   "outputs": [
    {
     "data": {
      "text/plain": [
       "[{'user_id': 2,\n",
       "  'name': 'rachana',\n",
       "  'profile_pic_url': '/home/ib_admin/sample2.png',\n",
       "  'reaction': 'WOW'},\n",
       " {'user_id': 4,\n",
       "  'name': 'Jones',\n",
       "  'profile_pic_url': '/home/ib_admin/jones.png',\n",
       "  'reaction': 'LIKE'}]"
      ]
     },
     "execution_count": 3,
     "metadata": {},
     "output_type": "execute_result"
    }
   ],
   "source": [
    "get_reactions_to_post(1)"
   ]
  },
  {
   "cell_type": "code",
   "execution_count": 4,
   "metadata": {},
   "outputs": [],
   "source": [
    "from fbposts.views import get_posts_with_more_positive_reactions"
   ]
  },
  {
   "cell_type": "code",
   "execution_count": 5,
   "metadata": {},
   "outputs": [
    {
     "data": {
      "text/plain": [
       "[1, 2]"
      ]
     },
     "execution_count": 5,
     "metadata": {},
     "output_type": "execute_result"
    }
   ],
   "source": [
    "get_posts_with_more_positive_reactions()\n"
   ]
  },
  {
   "cell_type": "code",
   "execution_count": 2,
   "metadata": {},
   "outputs": [],
   "source": [
    "from fbposts.views import get_reaction_metrics"
   ]
  },
  {
   "cell_type": "code",
   "execution_count": 3,
   "metadata": {},
   "outputs": [
    {
     "data": {
      "text/plain": [
       "{'HAHA': 0, 'LIKE': 1, 'WOW': 1, 'ANGRY': 0, 'SAD': 0, 'LOVE': 0}"
      ]
     },
     "execution_count": 3,
     "metadata": {},
     "output_type": "execute_result"
    }
   ],
   "source": [
    "get_reaction_metrics(1)"
   ]
  },
  {
   "cell_type": "code",
   "execution_count": 2,
   "metadata": {},
   "outputs": [],
   "source": [
    "from fbposts.views import get_total_reaction_count"
   ]
  },
  {
   "cell_type": "code",
   "execution_count": 3,
   "metadata": {},
   "outputs": [
    {
     "data": {
      "text/plain": [
       "{1: 2, 2: 1}"
      ]
     },
     "execution_count": 3,
     "metadata": {},
     "output_type": "execute_result"
    }
   ],
   "source": [
    "get_total_reaction_count()"
   ]
  },
  {
   "cell_type": "code",
   "execution_count": 2,
   "metadata": {},
   "outputs": [],
   "source": [
    "from fbposts.views import get_replies_for_comment\n"
   ]
  },
  {
   "cell_type": "code",
   "execution_count": 3,
   "metadata": {},
   "outputs": [
    {
     "data": {
      "text/plain": [
       "[{'comment_id': 4,\n",
       "  'commenter': {'user_id': 2,\n",
       "   'name': 'rachana',\n",
       "   'profile_pic_url': '/home/ib_admin/sample2.png'},\n",
       "  'commented_at': None,\n",
       "  'comment_content': 'true'}]"
      ]
     },
     "execution_count": 3,
     "metadata": {},
     "output_type": "execute_result"
    }
   ],
   "source": [
    " get_replies_for_comment(1)"
   ]
  },
  {
   "cell_type": "code",
   "execution_count": null,
   "metadata": {},
   "outputs": [],
   "source": []
  }
 ],
 "metadata": {
  "kernelspec": {
   "display_name": "Django Shell-Plus",
   "language": "python",
   "name": "django_extensions"
  },
  "language_info": {
   "codemirror_mode": {
    "name": "ipython",
    "version": 3
   },
   "file_extension": ".py",
   "mimetype": "text/x-python",
   "name": "python",
   "nbconvert_exporter": "python",
   "pygments_lexer": "ipython3",
   "version": "3.7.3"
  }
 },
 "nbformat": 4,
 "nbformat_minor": 2
}
