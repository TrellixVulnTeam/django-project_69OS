{
 "cells": [
  {
   "cell_type": "code",
   "execution_count": 14,
   "metadata": {},
   "outputs": [],
   "source": [
    "\n",
    "import django\n",
    "import os\n",
    "os.environ[\"DJANGO_SETTINGS_MODULE\"]=\"facebook.settings\"\n",
    "django.setup() \n"
   ]
  },
  {
   "cell_type": "code",
   "execution_count": 28,
   "metadata": {},
   "outputs": [
    {
     "name": "stdout",
     "output_type": "stream",
     "text": [
      "<QuerySet [{'id': 1, 'newest_commenter_id': 2}, {'id': 3, 'newest_commenter_id': None}, {'id': 2, 'newest_commenter_id': None}, {'id': 12, 'newest_commenter_id': 1}, {'id': 13, 'newest_commenter_id': None}, {'id': 14, 'newest_commenter_id': None}, {'id': 15, 'newest_commenter_id': None}, {'id': 16, 'newest_commenter_id': None}, {'id': 17, 'newest_commenter_id': None}, {'id': 18, 'newest_commenter_id': None}, {'id': 19, 'newest_commenter_id': None}, {'id': 20, 'newest_commenter_id': None}, {'id': 21, 'newest_commenter_id': None}, {'id': 22, 'newest_commenter_id': None}, {'id': 23, 'newest_commenter_id': None}, {'id': 24, 'newest_commenter_id': None}, {'id': 25, 'newest_commenter_id': None}, {'id': 26, 'newest_commenter_id': None}, {'id': 27, 'newest_commenter_id': None}, {'id': 28, 'newest_commenter_id': None}, '...(remaining elements truncated)...']>\n"
     ]
    }
   ],
   "source": [
    "\n",
    "from fbposts.models import Comment,Post\n",
    "from django.db.models import OuterRef, Subquery\n",
    "newest = Comment.objects.filter(post=OuterRef('pk')).order_by('commented_at')\n",
    "result=Post.objects.values('id').annotate(newest_commenter_id=Subquery(newest.values('commenter_id')[:1]))\n",
    "print(result)\n"
   ]
  },
  {
   "cell_type": "code",
   "execution_count": 29,
   "metadata": {},
   "outputs": [
    {
     "data": {
      "text/plain": [
       "<QuerySet [{'id': 1, 'recent_comment': False}, {'id': 3, 'recent_comment': False}, {'id': 2, 'recent_comment': False}, {'id': 12, 'recent_comment': True}, {'id': 13, 'recent_comment': False}, {'id': 14, 'recent_comment': False}, {'id': 15, 'recent_comment': False}, {'id': 16, 'recent_comment': False}, {'id': 17, 'recent_comment': False}, {'id': 18, 'recent_comment': False}, {'id': 19, 'recent_comment': False}, {'id': 20, 'recent_comment': False}, {'id': 21, 'recent_comment': False}, {'id': 22, 'recent_comment': False}, {'id': 23, 'recent_comment': False}, {'id': 24, 'recent_comment': False}, {'id': 25, 'recent_comment': False}, {'id': 26, 'recent_comment': False}, {'id': 27, 'recent_comment': False}, {'id': 28, 'recent_comment': False}, '...(remaining elements truncated)...']>"
      ]
     },
     "execution_count": 29,
     "metadata": {},
     "output_type": "execute_result"
    }
   ],
   "source": [
    "from django.db.models import Exists, OuterRef\n",
    "from datetime import timedelta\n",
    "from django.utils import timezone\n",
    "one_day_ago = timezone.now() - timedelta(days=1)\n",
    "recent_comments = Comment.objects.filter( post=OuterRef('pk'),commented_at__gte=one_day_ago)\n",
    "Post.objects.values('id').annotate(recent_comment=Exists(recent_comments))"
   ]
  },
  {
   "cell_type": "code",
   "execution_count": 31,
   "metadata": {},
   "outputs": [
    {
     "data": {
      "text/plain": [
       "<QuerySet [{'id': 1, 'self_Comments': True}, {'id': 3, 'self_Comments': False}, {'id': 2, 'self_Comments': False}, {'id': 12, 'self_Comments': False}, {'id': 13, 'self_Comments': False}, {'id': 14, 'self_Comments': False}, {'id': 15, 'self_Comments': False}, {'id': 16, 'self_Comments': False}, {'id': 17, 'self_Comments': False}, {'id': 18, 'self_Comments': False}, {'id': 19, 'self_Comments': False}, {'id': 20, 'self_Comments': False}, {'id': 21, 'self_Comments': False}, {'id': 22, 'self_Comments': False}, {'id': 23, 'self_Comments': False}, {'id': 24, 'self_Comments': False}, {'id': 25, 'self_Comments': False}, {'id': 26, 'self_Comments': False}, {'id': 27, 'self_Comments': False}, {'id': 28, 'self_Comments': False}, '...(remaining elements truncated)...']>"
      ]
     },
     "execution_count": 31,
     "metadata": {},
     "output_type": "execute_result"
    }
   ],
   "source": [
    "from fbposts.models import Comment,Post\n",
    "from django.db.models import OuterRef, Subquery\n",
    "self_comments=Comment.objects.filter( post=OuterRef('pk'),commenter_id=OuterRef('pk'))\n",
    "Post.objects.values('id').annotate(self_Comments=Exists(self_comments))"
   ]
  },
  {
   "cell_type": "code",
   "execution_count": null,
   "metadata": {},
   "outputs": [],
   "source": []
  }
 ],
 "metadata": {
  "kernelspec": {
   "display_name": "Python 3",
   "language": "python",
   "name": "python3"
  },
  "language_info": {
   "codemirror_mode": {
    "name": "ipython",
    "version": 3
   },
   "file_extension": ".py",
   "mimetype": "text/x-python",
   "name": "python",
   "nbconvert_exporter": "python",
   "pygments_lexer": "ipython3",
   "version": "3.7.3"
  }
 },
 "nbformat": 4,
 "nbformat_minor": 2
}
